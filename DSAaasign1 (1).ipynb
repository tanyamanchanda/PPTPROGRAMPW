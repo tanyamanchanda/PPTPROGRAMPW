{
 "cells": [
  {
   "cell_type": "markdown",
   "id": "8c7f606e-29be-46a8-a4d7-e058f49db5b6",
   "metadata": {},
   "source": [
    "Assignment Questions 1 TANYA MANCHANDA"
   ]
  },
  {
   "cell_type": "markdown",
   "id": "aa0e0630-b6e7-4293-844e-4224d6b02e3f",
   "metadata": {},
   "source": [
    "Q1.Given an array of integers nums and an integer target, return indices of the two numbers such that they add up to target.\n",
    "\n",
    "You may assume that each input would have exactly one solution, and you may not use the same element twice.\n",
    "\n",
    "You can return the answer in any order.\n"
   ]
  },
  {
   "cell_type": "code",
   "execution_count": 1,
   "id": "96fbb4c2-9dc8-42d4-880e-9ad7ef956002",
   "metadata": {},
   "outputs": [
    {
     "name": "stdout",
     "output_type": "stream",
     "text": [
      "[0, 1]\n"
     ]
    }
   ],
   "source": [
    "def twoSum(nums, target):\n",
    "    num_indices = {}  # Dictionary to store the numbers and their indices\n",
    "\n",
    "    # Iterate through the array\n",
    "    for i, num in enumerate(nums):\n",
    "        complement = target - num\n",
    "\n",
    "        # Check if the complement exists in the dictionary\n",
    "        if complement in num_indices:\n",
    "            return [num_indices[complement], i]  # Return the indices\n",
    "\n",
    "        # Add the current number and its index to the dictionary\n",
    "        num_indices[num] = i\n",
    "\n",
    "    # No two numbers sum up to the target\n",
    "    return []\n",
    "\n",
    "# Example usage\n",
    "nums = [3, 4, 9, 20]\n",
    "target = 7\n",
    "result = twoSum(nums, target)\n",
    "print(result)  # Output: [0, 1]\n"
   ]
  },
  {
   "cell_type": "markdown",
   "id": "a64bc20a-e315-4c91-ac8f-936b73e72c77",
   "metadata": {},
   "source": [
    "Q2.** Given an integer array nums and an integer val, remove all occurrences of val in nums in-place. The order of the elements may be changed. Then return the number of elements in nums which are not equal to val.\n",
    "\n",
    "Consider the number of elements in nums which are not equal to val be k, to get accepted, you need to do the following things:\n",
    "\n",
    "- Change the array nums such that the first k elements of nums contain the elements which are not equal to val. The remaining elements of nums are not important as well as the size of nums.\n",
    "- Return k.\n"
   ]
  },
  {
   "cell_type": "code",
   "execution_count": 3,
   "id": "37fcd033-1763-426d-aedf-dadd80aa58e4",
   "metadata": {},
   "outputs": [
    {
     "name": "stdout",
     "output_type": "stream",
     "text": [
      "2\n",
      "[8, 8, 8, 6]\n"
     ]
    }
   ],
   "source": [
    "def removeElement(nums, val):\n",
    "    n = len(nums)\n",
    "    left = 0  # Pointer to track the next position to insert non-val elements\n",
    "\n",
    "    # Iterate through the array\n",
    "    for right in range(n):\n",
    "        if nums[right] != val:\n",
    "            nums[left] = nums[right]\n",
    "            left += 1\n",
    "\n",
    "    return left  # Return the number of non-val elements\n",
    "\n",
    "# Example usage\n",
    "nums = [6,8, 8, 6]\n",
    "val = 6\n",
    "result = removeElement(nums, val)\n",
    "print(result)  # Output: 2\n",
    "print(nums)  # Output: [8, 8]\n",
    "\n"
   ]
  },
  {
   "cell_type": "markdown",
   "id": "52d91cad-eea5-462b-81d7-556d9db55716",
   "metadata": {},
   "source": [
    "Q3. Given a sorted array of distinct integers and a target value, return the index if the target is found. If not, return the index where it would be if it were inserted in order.\n",
    "\n",
    "You must write an algorithm with O(log n) runtime complexity.\n"
   ]
  },
  {
   "cell_type": "code",
   "execution_count": 5,
   "id": "301a54e1-92f1-49d8-949c-c12dc60fdcc0",
   "metadata": {
    "tags": []
   },
   "outputs": [
    {
     "name": "stdout",
     "output_type": "stream",
     "text": [
      "3\n"
     ]
    }
   ],
   "source": [
    "def searchInsert(nums, target):\n",
    "    left = 0\n",
    "    right = len(nums) - 1\n",
    "\n",
    "    while left <= right:\n",
    "        mid = (left + right) // 2\n",
    "\n",
    "        if nums[mid] == target:\n",
    "            return mid\n",
    "\n",
    "        if nums[mid] < target:\n",
    "            left = mid + 1\n",
    "        else:\n",
    "            right = mid - 1\n",
    "\n",
    "    return left  # If the target is not found, return the index for insertion\n",
    "\n",
    "# Example usage\n",
    "nums = [2, 5, 6, 7]\n",
    "target = 7\n",
    "result = searchInsert(nums, target)\n",
    "print(result)  # Output: 3\n"
   ]
  },
  {
   "cell_type": "markdown",
   "id": "ee10c39f-6f6e-4d22-85d2-be666bbb0e46",
   "metadata": {},
   "source": [
    "Q4. You are given a large integer represented as an integer array digits, where each digits[i] is the ith digit of the integer. The digits are ordered from most significant to least significant in left-to-right order. The large integer does not contain any leading 0's.\n",
    "\n",
    "Increment the large integer by one and return the resulting array of digits.\n",
    "\n"
   ]
  },
  {
   "cell_type": "code",
   "execution_count": 6,
   "id": "9f0a4b5a-4803-4165-9c01-7148e985e070",
   "metadata": {},
   "outputs": [
    {
     "name": "stdout",
     "output_type": "stream",
     "text": [
      "[2, 2, 8]\n"
     ]
    }
   ],
   "source": [
    "def plusOne(digits):\n",
    "    n = len(digits)\n",
    "\n",
    "    # Traverse the digits array from right to left\n",
    "    for i in range(n - 1, -1, -1):\n",
    "        if digits[i] != 9:\n",
    "            digits[i] += 1  # Increment the current digit\n",
    "            return digits\n",
    "\n",
    "        # If the current digit is 9, set it to 0 and propagate carry\n",
    "        digits[i] = 0\n",
    "\n",
    "    # If all digits are 9, add an extra digit at the beginning\n",
    "    digits.insert(0, 1)\n",
    "\n",
    "    return digits\n",
    "\n",
    "# Example usage\n",
    "digits = [2, 2, 7]\n",
    "result = plusOne(digits)\n",
    "print(result)  # Output: [2, 2, 8]\n"
   ]
  },
  {
   "cell_type": "markdown",
   "id": "6b69674a-daac-4f32-b809-1df52568e7e7",
   "metadata": {},
   "source": [
    "Q5.You are given two integer arrays nums1 and nums2, sorted in non-decreasing order, and two integers m and n, representing the number of elements in nums1 and nums2 respectively.\n",
    "\n",
    "Merge nums1 and nums2 into a single array sorted in non-decreasing order.\n",
    "\n",
    "The final sorted array should not be returned by the function, but instead be stored inside the array nums1. To accommodate this, nums1 has a length of m + n, where the first m elements denote the elements that should be merged, and the last n elements are set to 0 and should be ignored. nums2 has a length of n.\n"
   ]
  },
  {
   "cell_type": "code",
   "execution_count": 8,
   "id": "db7b6378-ffc6-4655-a7cf-4f980fbd0ea9",
   "metadata": {},
   "outputs": [
    {
     "name": "stdout",
     "output_type": "stream",
     "text": [
      "[1, 2, 3, 3, 5, 6]\n"
     ]
    }
   ],
   "source": [
    "def merge(nums1, m, nums2, n):\n",
    "    p1 = m - 1  # Pointer for nums1\n",
    "    p2 = n - 1  # Pointer for nums2\n",
    "    p = m + n - 1  # Pointer for the merged array\n",
    "\n",
    "    # Compare elements from both arrays and place them in nums1\n",
    "    while p1 >= 0 and p2 >= 0:\n",
    "        if nums1[p1] <= nums2[p2]:\n",
    "            nums1[p] = nums2[p2]\n",
    "            p2 -= 1\n",
    "        else:\n",
    "            nums1[p] = nums1[p1]\n",
    "            p1 -= 1\n",
    "        p -= 1\n",
    "\n",
    "    # Place remaining elements from nums2 into nums1\n",
    "    nums1[:p2 + 1] = nums2[:p2 + 1]\n",
    "\n",
    "# Example usage\n",
    "nums1 = [1, 2, 3, 6, 7, 8]\n",
    "m = 3\n",
    "nums2 = [3, 5, 6]\n",
    "n = 3\n",
    "merge(nums1, m, nums2, n)\n",
    "print(nums1)  # Output: [1, 2, 3, 3, 5, 6]\n"
   ]
  },
  {
   "cell_type": "markdown",
   "id": "eca467eb-a638-43e0-9769-3405dd91d6e0",
   "metadata": {},
   "source": [
    "Q6. Given an integer array nums, return true if any value appears at least twice in the array, and return false if every element is distinct."
   ]
  },
  {
   "cell_type": "code",
   "execution_count": 9,
   "id": "51817f85-aae4-4bf2-9e64-25b1de52a8ea",
   "metadata": {},
   "outputs": [
    {
     "name": "stdout",
     "output_type": "stream",
     "text": [
      "True\n"
     ]
    }
   ],
   "source": [
    "def containsDuplicate(nums):\n",
    "    num_set = set()\n",
    "\n",
    "    for num in nums:\n",
    "        if num in num_set:\n",
    "            return True\n",
    "        num_set.add(num)\n",
    "\n",
    "    return False\n",
    "\n",
    "# Example usage\n",
    "nums = [5, 2, 6, 5]\n",
    "result = containsDuplicate(nums)\n",
    "print(result)  # Output: True\n"
   ]
  },
  {
   "cell_type": "markdown",
   "id": "56e4050b-61f9-476a-b001-5776a4d8bad2",
   "metadata": {},
   "source": [
    "Q7. Given an integer array nums, move all 0's to the end of it while maintaining the relative order of the nonzero elements.\n",
    "\n",
    "Note that you must do this in-place without making a copy of the array.\n"
   ]
  },
  {
   "cell_type": "code",
   "execution_count": 10,
   "id": "348e1b02-9ce7-4ebd-a294-796a6bd5b6fb",
   "metadata": {},
   "outputs": [
    {
     "name": "stdout",
     "output_type": "stream",
     "text": [
      "[2, 7, 3, 0, 0]\n"
     ]
    }
   ],
   "source": [
    "def moveZeroes(nums):\n",
    "    n = len(nums)\n",
    "    left = 0  # Pointer to track the leftmost zero position\n",
    "\n",
    "    # Iterate through the array\n",
    "    for right in range(n):\n",
    "        if nums[right] != 0:\n",
    "            # Swap the non-zero element with the leftmost zero position\n",
    "            nums[left], nums[right] = nums[right], nums[left]\n",
    "            left += 1\n",
    "\n",
    "# Example usage\n",
    "nums = [2, 7, 0, 3, 0]\n",
    "moveZeroes(nums)\n",
    "print(nums)  # Output: [2, 7, 13, 0, 0]\n"
   ]
  },
  {
   "cell_type": "markdown",
   "id": "0dc3c4f1-3aa3-4038-a452-307df9ddaa2a",
   "metadata": {},
   "source": [
    "Q8. You have a set of integers s, which originally contains all the numbers from 1 to n. Unfortunately, due to some error, one of the numbers in s got duplicated to another number in the set, which results in repetition of one number and loss of another number.\n",
    "\n",
    "You are given an integer array nums representing the data status of this set after the error.\n",
    "\n",
    "Find the number that occurs twice and the number that is missing and return them in the form of an array.\n"
   ]
  },
  {
   "cell_type": "code",
   "execution_count": 11,
   "id": "bb9e87d1-c273-483f-86e4-b2b949272f8b",
   "metadata": {},
   "outputs": [
    {
     "name": "stdout",
     "output_type": "stream",
     "text": [
      "[5, 1]\n"
     ]
    }
   ],
   "source": [
    "def findErrorNums(nums):\n",
    "    n = len(nums)\n",
    "    num_set = set()\n",
    "    duplicate = -1\n",
    "    missing = -1\n",
    "\n",
    "    # Iterate through the array\n",
    "    for num in nums:\n",
    "        if num in num_set:\n",
    "            duplicate = num\n",
    "        num_set.add(num)\n",
    "\n",
    "    # Check the missing number\n",
    "    for i in range(1, n + 1):\n",
    "        if i not in num_set:\n",
    "            missing = i\n",
    "            break\n",
    "\n",
    "    return [duplicate, missing]\n",
    "\n",
    "# Example usage\n",
    "nums = [3, 5, 2, 5]\n",
    "result = findErrorNums(nums)\n",
    "print(result)  # Output: [5, 1]\n"
   ]
  },
  {
   "cell_type": "code",
   "execution_count": null,
   "id": "e86c7e4a-d1c3-4e71-986e-263a76e8bbdc",
   "metadata": {},
   "outputs": [],
   "source": []
  }
 ],
 "metadata": {
  "kernelspec": {
   "display_name": "Python 3 (ipykernel)",
   "language": "python",
   "name": "python3"
  },
  "language_info": {
   "codemirror_mode": {
    "name": "ipython",
    "version": 3
   },
   "file_extension": ".py",
   "mimetype": "text/x-python",
   "name": "python",
   "nbconvert_exporter": "python",
   "pygments_lexer": "ipython3",
   "version": "3.10.8"
  }
 },
 "nbformat": 4,
 "nbformat_minor": 5
}
