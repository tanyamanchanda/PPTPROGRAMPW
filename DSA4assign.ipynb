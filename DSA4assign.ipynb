{
 "cells": [
  {
   "cell_type": "markdown",
   "id": "8f6d4794-684e-4e6e-b88a-18215c290689",
   "metadata": {},
   "source": [
    "Question 1 Given three integer arrays arr1, arr2 and arr3 **sorted** in **strictly increasing** order, return a sorted array of **only** the integers that appeared in **all** three arrays."
   ]
  },
  {
   "cell_type": "code",
   "execution_count": 1,
   "id": "08acd00a-1e64-4fc7-ae3f-01102b433fd9",
   "metadata": {},
   "outputs": [
    {
     "name": "stdout",
     "output_type": "stream",
     "text": [
      "[1, 5]\n"
     ]
    }
   ],
   "source": [
    "def arraysIntersection(arr1, arr2, arr3):\n",
    "    ptr1, ptr2, ptr3 = 0, 0, 0\n",
    "    common = set()\n",
    "\n",
    "    while ptr1 < len(arr1) and ptr2 < len(arr2) and ptr3 < len(arr3):\n",
    "        if arr1[ptr1] == arr2[ptr2] == arr3[ptr3]:\n",
    "            common.add(arr1[ptr1])\n",
    "            ptr1 += 1\n",
    "            ptr2 += 1\n",
    "            ptr3 += 1\n",
    "        else:\n",
    "            smallest = min(arr1[ptr1], arr2[ptr2], arr3[ptr3])\n",
    "            if arr1[ptr1] == smallest:\n",
    "                ptr1 += 1\n",
    "            if arr2[ptr2] == smallest:\n",
    "                ptr2 += 1\n",
    "            if arr3[ptr3] == smallest:\n",
    "                ptr3 += 1\n",
    "\n",
    "    return list(common)\n",
    "arr1 = [1, 2, 3, 4, 5]\n",
    "arr2 = [1, 2, 5, 7, 9]\n",
    "arr3 = [1, 3, 4, 5, 8]\n",
    "\n",
    "result = arraysIntersection(arr1, arr2, arr3)\n",
    "print(result)\n",
    "#output[1, 5]"
   ]
  },
  {
   "cell_type": "markdown",
   "id": "1b136fd0-b988-47fd-bdd8-8220e63169ef",
   "metadata": {},
   "source": [
    "Question 2\n",
    "Given two **0-indexed** integer arrays nums1 and nums2, return *a list* answer *of size* 2 *where:*\n",
    "\n",
    "- answer[0] *is a list of all **distinct** integers in* nums1 *which are **not** present in* nums2*.*\n",
    "- answer[1] *is a list of all **distinct** integers in* nums2 *which are **not** present in* nums1.\n",
    "\n",
    "**Note** that the integers in the lists may be returned in **any** order.\n"
   ]
  },
  {
   "cell_type": "code",
   "execution_count": 2,
   "id": "4e2a07b6-6f7d-4429-ab72-a653ed081703",
   "metadata": {},
   "outputs": [
    {
     "name": "stdout",
     "output_type": "stream",
     "text": [
      "[[1, 3], [4, 6]]\n"
     ]
    }
   ],
   "source": [
    "def findDisappearedNumbers(nums1, nums2):\n",
    "    set1 = set(nums1)\n",
    "    set2 = set(nums2)\n",
    "    result1 = [num for num in set1 if num not in set2]\n",
    "    result2 = [num for num in set2 if num not in set1]\n",
    "    return [result1, result2]\n",
    "nums1 = [1, 2, 3]\n",
    "nums2 = [2, 4, 6]\n",
    "\n",
    "result = findDisappearedNumbers(nums1, nums2)\n",
    "print(result)\n",
    "#output[[1, 3], [4, 6]]"
   ]
  },
  {
   "cell_type": "markdown",
   "id": "124b1ea2-a0e4-4f15-a94e-039566121dfc",
   "metadata": {},
   "source": [
    "Question 3\n",
    "Given a 2D integer array matrix, return *the **transpose** of* matrix.\n",
    "\n",
    "The **transpose** of a matrix is the matrix flipped over its main diagonal, switching the matrix's row and column indices."
   ]
  },
  {
   "cell_type": "code",
   "execution_count": 3,
   "id": "d38e66c1-74d8-42b9-a1da-a77d143b8704",
   "metadata": {},
   "outputs": [
    {
     "name": "stdout",
     "output_type": "stream",
     "text": [
      "[[1, 4, 7], [2, 5, 8], [3, 6, 9]]\n"
     ]
    }
   ],
   "source": [
    "def transpose(matrix):\n",
    "    rows = len(matrix)\n",
    "    cols = len(matrix[0])\n",
    "    transpose = []\n",
    "\n",
    "    for j in range(cols):\n",
    "        new_row = []\n",
    "        for i in range(rows):\n",
    "            new_row.append(matrix[i][j])\n",
    "        transpose.append(new_row)\n",
    "\n",
    "    return transpose\n",
    "matrix = [[1, 2, 3], [4, 5, 6], [7, 8, 9]]\n",
    "result = transpose(matrix)\n",
    "print(result)\n",
    "#output[[1, 4, 7], [2, 5, 8], [3, 6, 9]]\n"
   ]
  },
  {
   "cell_type": "markdown",
   "id": "64d8b3bd-bfcf-4c80-885f-6173df4c540a",
   "metadata": {},
   "source": [
    "Question 4\n",
    "Given an integer array nums of 2n integers, group these integers into n pairs (a1, b1), (a2, b2), ..., (an, bn) such that the sum of min(ai, bi) for all i is **maximized**. Return *the maximized sum*."
   ]
  },
  {
   "cell_type": "code",
   "execution_count": 5,
   "id": "90e52ecb-83c7-4453-883d-43076123780e",
   "metadata": {},
   "outputs": [
    {
     "name": "stdout",
     "output_type": "stream",
     "text": [
      "4\n"
     ]
    }
   ],
   "source": [
    "def arrayPairSum(nums):\n",
    "    nums.sort()\n",
    "    max_sum = 0\n",
    "\n",
    "    for i in range(0, len(nums), 2):\n",
    "        max_sum += nums[i]\n",
    "\n",
    "    return max_sum\n",
    "nums = [1, 4, 3, 2]\n",
    "result = arrayPairSum(nums)\n",
    "print(result)\n",
    "#output4"
   ]
  },
  {
   "cell_type": "markdown",
   "id": "2bc2bcfa-5d70-417f-8d8f-a6eef77f88dc",
   "metadata": {},
   "source": [
    "Question 5\n",
    "You have n coins and you want to build a staircase with these coins. The staircase consists of k rows where the ith row has exactly i coins. The last row of the staircase **may be** incomplete.\n",
    "\n",
    "Given the integer n, return *the number of **complete rows** of the staircase you will build*.\n"
   ]
  },
  {
   "cell_type": "code",
   "execution_count": 6,
   "id": "1e06fe85-6fbd-45d6-9bee-3e6547eaa7e9",
   "metadata": {},
   "outputs": [
    {
     "name": "stdout",
     "output_type": "stream",
     "text": [
      "2\n"
     ]
    }
   ],
   "source": [
    "def arrangeCoins(n):\n",
    "    left, right = 1, n\n",
    "\n",
    "    while left <= right:\n",
    "        mid = (left + right) // 2\n",
    "        coins = mid * (mid + 1) // 2\n",
    "\n",
    "        if coins <= n:\n",
    "            left = mid + 1\n",
    "        else:\n",
    "            right = mid - 1\n",
    "\n",
    "    return right\n",
    "n = 5\n",
    "result = arrangeCoins(n)\n",
    "print(result)\n",
    "#output2"
   ]
  },
  {
   "cell_type": "markdown",
   "id": "5ae7f734-fd78-46a4-af74-c7721f16dce0",
   "metadata": {},
   "source": [
    "Question 6\n",
    "Given an integer array nums sorted in **non-decreasing** order, return *an array of **the squares of each number** sorted in non-decreasing order."
   ]
  },
  {
   "cell_type": "markdown",
   "id": "68cca434-26da-491d-bea0-03b075267708",
   "metadata": {},
   "source": [
    "def sortedSquares(nums):\n",
    "    left = 0\n",
    "    right = len(nums) - 1\n",
    "    result = []\n",
    "\n",
    "    while left <= right:\n",
    "        if abs(nums[left]) >= abs(nums[right]):\n",
    "            result.append(nums[left] ** 2)\n",
    "            left += 1\n",
    "        else:\n",
    "            result.append(nums[right] ** 2)\n",
    "            right -= 1\n",
    "\n",
    "    return result[::-1]\n",
    "nums = [-4, -1, 0, 3, 10]\n",
    "result = sortedSquares(nums)\n",
    "print(result)\n",
    "#output[0, 1, 9, 16, 100]\n"
   ]
  },
  {
   "cell_type": "markdown",
   "id": "484e89b5-dd65-43e1-9f84-28da9dedaa0d",
   "metadata": {},
   "source": [
    "Question 7\n",
    "You are given an m x n matrix M initialized with all 0's and an array of operations ops, where ops[i] = [ai, bi] means M[x][y] should be incremented by one for all 0 <= x < ai and 0 <= y < bi.\n",
    "\n",
    "Count and return *the number of maximum integers in the matrix after performing all the operations*\n"
   ]
  },
  {
   "cell_type": "code",
   "execution_count": 8,
   "id": "cefb71c5-a22b-49aa-9484-846d4fc09117",
   "metadata": {},
   "outputs": [
    {
     "name": "stdout",
     "output_type": "stream",
     "text": [
      "4\n"
     ]
    }
   ],
   "source": [
    "def maxCount(m, n, ops):\n",
    "    min_row = m\n",
    "    min_col = n\n",
    "\n",
    "    for op in ops:\n",
    "        min_row = min(min_row, op[0])\n",
    "        min_col = min(min_col, op[1])\n",
    "\n",
    "    return min_row * min_col\n",
    "m = 3\n",
    "n = 3\n",
    "ops = [[2, 2], [3, 3]]\n",
    "result = maxCount(m, n, ops)\n",
    "print(result)\n",
    "#output4"
   ]
  },
  {
   "cell_type": "markdown",
   "id": "637703bf-26d5-4bc3-8df5-c6152cac86db",
   "metadata": {},
   "source": [
    "Question 8\n",
    "Given the array nums consisting of 2n elements in the form [x1,x2,...,xn,y1,y2,...,yn].\n",
    "\n",
    "*Return the array in the form* [x1,y1,x2,y2,...,xn,yn].\n"
   ]
  },
  {
   "cell_type": "code",
   "execution_count": null,
   "id": "e57e2f6d-7f68-4836-91af-c627a775b4c7",
   "metadata": {},
   "outputs": [],
   "source": []
  }
 ],
 "metadata": {
  "kernelspec": {
   "display_name": "Python 3 (ipykernel)",
   "language": "python",
   "name": "python3"
  },
  "language_info": {
   "codemirror_mode": {
    "name": "ipython",
    "version": 3
   },
   "file_extension": ".py",
   "mimetype": "text/x-python",
   "name": "python",
   "nbconvert_exporter": "python",
   "pygments_lexer": "ipython3",
   "version": "3.10.8"
  }
 },
 "nbformat": 4,
 "nbformat_minor": 5
}
