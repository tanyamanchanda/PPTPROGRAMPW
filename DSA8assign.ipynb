{
 "cells": [
  {
   "cell_type": "markdown",
   "id": "e6611314-fb04-4693-b9df-082d6b4fb0f0",
   "metadata": {},
   "source": [
    "Question 1**\n",
    "\n",
    "Given two strings s1 and s2, return *the lowest **ASCII** sum of deleted characters to make two strings equal*.\n"
   ]
  },
  {
   "cell_type": "code",
   "execution_count": 1,
   "id": "e4a84beb-a107-44bc-ad28-cba7e1ccd199",
   "metadata": {},
   "outputs": [],
   "source": [
    "def minimumDeleteSum(s1, s2):\n",
    "    m, n = len(s1), len(s2)\n",
    "    dp = [[0] * (n+1) for _ in range(m+1)]\n",
    "\n",
    "    for i in range(1, m+1):\n",
    "        dp[i][0] = dp[i-1][0] + ord(s1[i-1])\n",
    "\n",
    "    for j in range(1, n+1):\n",
    "        dp[0][j] = dp[0][j-1] + ord(s2[j-1])\n",
    "\n",
    "    for i in range(1, m+1):\n",
    "        for j in range(1, n+1):\n",
    "            if s1[i-1] == s2[j-1]:\n",
    "                dp[i][j] = dp[i-1][j-1]\n",
    "            else:\n",
    "                dp[i][j] = min(dp[i-1][j] + ord(s1[i-1]), dp[i][j-1] + ord(s2[j-1]))\n",
    "\n",
    "    return dp[m][n]\n"
   ]
  },
  {
   "cell_type": "markdown",
   "id": "510d8bf4-c881-4db7-b91b-121117b51a69",
   "metadata": {},
   "source": [
    "Question 2**\n",
    "\n",
    "Given a string s containing only three types of characters: '(', ')' and '*', return true *if* s *is **valid***.\n",
    "\n",
    "The following rules define a **valid** string:\n",
    "\n",
    "- Any left parenthesis '(' must have a corresponding right parenthesis ')'.\n",
    "- Any right parenthesis ')' must have a corresponding left parenthesis '('.\n",
    "- Left parenthesis '(' must go before the corresponding right parenthesis ')'.\n",
    "- '*' could be treated as a single right parenthesis ')' or a single left parenthesis '(' or an empty string \"\"."
   ]
  },
  {
   "cell_type": "code",
   "execution_count": 2,
   "id": "add4b32e-3d21-4ed8-895e-3a2ba112d7a7",
   "metadata": {},
   "outputs": [],
   "source": [
    "def checkValidString(s):\n",
    "    stack = []\n",
    "\n",
    "    for c in s:\n",
    "        if c == '(' or c == '*':\n",
    "            stack.append(c)\n",
    "        elif c == ')':\n",
    "            if stack and (stack[-1] == '(' or stack[-1] == '*'):\n",
    "                stack.pop()\n",
    "            else:\n",
    "                return False\n",
    "\n",
    "    while stack:\n",
    "        if stack[-1] == '(':\n",
    "            return False\n",
    "        stack.pop()\n",
    "\n",
    "    return True\n"
   ]
  },
  {
   "cell_type": "markdown",
   "id": "d22c4e42-2fb3-4171-ba4a-a84e7afe060b",
   "metadata": {},
   "source": [
    "Question 3**\n",
    "\n",
    "Given two strings word1 and word2, return *the minimum number of **steps** required to make* word1 *and* word2 *the same*.\n",
    "\n",
    "In one **step**, you can delete exactly one character in either string.\n",
    "\n"
   ]
  },
  {
   "cell_type": "code",
   "execution_count": 3,
   "id": "b7ffd054-78a6-4f80-9322-83fdbb266e9a",
   "metadata": {},
   "outputs": [],
   "source": [
    "def minSteps(word1, word2):\n",
    "    m, n = len(word1), len(word2)\n",
    "    dp = [[0] * (n+1) for _ in range(m+1)]\n",
    "\n",
    "    for i in range(1, m+1):\n",
    "        dp[i][0] = i\n",
    "\n",
    "    for j in range(1, n+1):\n",
    "        dp[0][j] = j\n",
    "\n",
    "    for i in range(1, m+1):\n",
    "        for j in range(1, n+1):\n",
    "            if word1[i-1] == word2[j-1]:\n",
    "                dp[i][j] = dp[i-1][j-1]\n",
    "            else:\n",
    "                dp[i][j] = min(dp[i-1][j] + 1, dp[i][j-1] + 1)\n",
    "\n",
    "    return dp[m][n]\n"
   ]
  },
  {
   "cell_type": "markdown",
   "id": "fa16d8a0-9790-4926-a4a6-b162fa8c79ed",
   "metadata": {},
   "source": [
    "Question 4**\n",
    "\n",
    "You need to construct a binary tree from a string consisting of parenthesis and integers.\n",
    "\n",
    "The whole input represents a binary tree. It contains an integer followed by zero, one or two pairs of parenthesis. The integer represents the root's value and a pair of parenthesis contains a child binary tree with the same structure.\n",
    "You always start to construct the **left** child node of the parent first if it exists.\n"
   ]
  },
  {
   "cell_type": "code",
   "execution_count": 4,
   "id": "ae6c04da-cef1-477d-9f20-c55dceb52362",
   "metadata": {},
   "outputs": [],
   "source": [
    "class TreeNode:\n",
    "    def __init__(self, val=0, left=None, right=None):\n",
    "        self.val = val\n",
    "        self.left = left\n",
    "        self.right = right\n",
    "\n",
    "def buildTree(s, start, end):\n",
    "    if start > end:\n",
    "        return None\n",
    "\n",
    "    leftIdx = s.find('(', start, end)\n",
    "    val = int(s[start:leftIdx])\n",
    "\n",
    "    node = TreeNode(val)\n",
    "\n",
    "    parenCount = 0\n",
    "    splitIdx = -1\n",
    "\n",
    "    for i in range(leftIdx, end):\n",
    "        if s[i] == '(':\n",
    "            parenCount += 1\n",
    "        elif s[i] == ')':\n",
    "            parenCount -= 1\n",
    "\n",
    "        if parenCount == 0 and (s[i] == '(' or s[i] == ')'):\n",
    "            splitIdx = i\n",
    "            break\n",
    "\n",
    "    leftStart = leftIdx + 1\n",
    "    leftEnd = splitIdx - 1\n",
    "\n",
    "    node.left = buildTree(s, leftStart, leftEnd)\n",
    "\n",
    "    rightStart = splitIdx + 1\n",
    "    rightEnd = end - 1\n",
    "\n",
    "    node.right = buildTree(s, rightStart, rightEnd)\n",
    "\n",
    "    return node\n",
    "\n",
    "def treeFromString(s):\n",
    "    return buildTree(s, 0, len(s) - 1)\n"
   ]
  },
  {
   "cell_type": "markdown",
   "id": "42d8f29c-11b1-4e24-9fe0-9f093bea8e86",
   "metadata": {},
   "source": [
    "Question 5**\n",
    "\n",
    "Given an array of characters chars, compress it using the following algorithm:\n",
    "\n",
    "Begin with an empty string s. For each group of **consecutive repeating characters** in chars:\n",
    "\n",
    "- If the group's length is 1, append the character to s.\n",
    "- Otherwise, append the character followed by the group's length.\n",
    "\n",
    "The compressed string s **should not be returned separately**, but instead, be stored **in the input character array chars**. Note that group lengths that are 10 or longer will be split into multiple characters in chars.\n",
    "\n",
    "After you are done **modifying the input array,** return *the new length of the array*.\n",
    "\n",
    "You must write an algorithm that uses only constant extra space."
   ]
  },
  {
   "cell_type": "code",
   "execution_count": 5,
   "id": "d5177721-6527-4656-a32d-742a8b859894",
   "metadata": {},
   "outputs": [],
   "source": [
    "def compress(chars):\n",
    "    write = 0\n",
    "    count = 0\n",
    "\n",
    "    for read in range(len(chars)):\n",
    "        count += 1\n",
    "\n",
    "        if read + 1 == len(chars) or chars[read] != chars[read + 1]:\n",
    "            chars[write] = chars[read]\n",
    "            write += 1\n",
    "\n",
    "            if count > 1:\n",
    "                count_str = str(count)\n",
    "                for digit in count_str:\n",
    "                    chars[write] = digit\n",
    "                    write += 1\n",
    "\n",
    "            count = 0\n",
    "\n",
    "    return write\n"
   ]
  },
  {
   "cell_type": "markdown",
   "id": "945615c5-d154-4d8b-9b3a-259480205469",
   "metadata": {},
   "source": [
    "Question 6**\n",
    "\n",
    "Given two strings s and p, return *an array of all the start indices of* p*'s anagrams in* s. You may return the answer in **any order**.\n",
    "\n",
    "An **Anagram** is a word or phrase formed by rearranging the letters of a different word or phrase, typically using all the original letters exactly once."
   ]
  },
  {
   "cell_type": "code",
   "execution_count": 2,
   "id": "107c35ae-979b-47bc-bbd0-b003c3da842d",
   "metadata": {},
   "outputs": [
    {
     "name": "stdout",
     "output_type": "stream",
     "text": [
      "[0, 6]\n"
     ]
    }
   ],
   "source": [
    "def findAnagrams(s, p):\n",
    "    result = []\n",
    "    p_freq = {}\n",
    "    window_freq = {}\n",
    "\n",
    "    # Populate frequency map for string p\n",
    "    for char in p:\n",
    "        p_freq[char] = p_freq.get(char, 0) + 1\n",
    "\n",
    "    # Initialize pointers\n",
    "    left = right = 0\n",
    "\n",
    "    # Move right pointer until window size is equal to length of p\n",
    "    while right < len(s):\n",
    "        # Expand the window\n",
    "        window_freq[s[right]] = window_freq.get(s[right], 0) + 1\n",
    "\n",
    "        # Shrink the window if necessary\n",
    "        if right >= len(p):\n",
    "            window_freq[s[left]] -= 1\n",
    "            if window_freq[s[left]] == 0:\n",
    "                del window_freq[s[left]]\n",
    "            left += 1\n",
    "\n",
    "        # Check if window is an anagram of p\n",
    "        if window_freq == p_freq:\n",
    "            result.append(left)\n",
    "\n",
    "        right += 1\n",
    "\n",
    "    return result\n",
    "s = \"cbaebabacd\"\n",
    "p = \"abc\"\n",
    "print(findAnagrams(s, p))\n",
    "#[0, 6]"
   ]
  },
  {
   "cell_type": "markdown",
   "id": "4926b3f7-4389-443c-8d97-a1c7df53eadf",
   "metadata": {},
   "source": [
    "Question 7**\n",
    "\n",
    "Given an encoded string, return its decoded string.\n",
    "\n",
    "The encoding rule is: k[encoded_string], where the encoded_string inside the square brackets is being repeated exactly k times. Note that k is guaranteed to be a positive integer.\n",
    "\n",
    "You may assume that the input string is always valid; there are no extra white spaces, square brackets are well-formed, etc. Furthermore, you may assume that the original data does not contain any digits and that digits are only for those repeat numbers, k. For example, there will not be input like 3a or 2[4].\n",
    "\n",
    "The test cases are generated so that the length of the output will never exceed 105."
   ]
  },
  {
   "cell_type": "code",
   "execution_count": 4,
   "id": "2a0cf1c7-eb2a-4543-bd3f-18e70cd3858d",
   "metadata": {},
   "outputs": [
    {
     "name": "stdout",
     "output_type": "stream",
     "text": [
      "cbcbaaa\n"
     ]
    }
   ],
   "source": [
    "def decodeString(s):\n",
    "    stack = []\n",
    "    for c in s:\n",
    "        if c != ']':\n",
    "            stack.append(c)\n",
    "        else:\n",
    "            # Decode the substring\n",
    "            substring = ''\n",
    "            while stack[-1] != '[':\n",
    "                substring = stack.pop() + substring\n",
    "\n",
    "            # Pop the opening bracket\n",
    "            stack.pop()\n",
    "\n",
    "            # Get the repetition count\n",
    "            count = ''\n",
    "            while stack and stack[-1].isdigit():\n",
    "                count = stack.pop() + count\n",
    "\n",
    "            # Multiply the substring by the repetition count\n",
    "            substring = substring * int(count)\n",
    "\n",
    "            # Push the decoded substring back onto the stack\n",
    "            stack.extend(list(substring))\n",
    "\n",
    "    # Construct the final decoded string\n",
    "    decoded_string = ''.join(stack[::-1])\n",
    "\n",
    "    return decoded_string\n",
    "s = \"3[a]2[bc]\"\n",
    "print(decodeString(s))\n",
    "#cbcbaaa\n"
   ]
  },
  {
   "cell_type": "markdown",
   "id": "a531ae37-8138-4da6-80cc-b9ba95c1582d",
   "metadata": {},
   "source": [
    "Question 8**\n",
    "\n",
    "Given two strings s and goal, return true *if you can swap two letters in* s *so the result is equal to* goal*, otherwise, return* false*.*\n",
    "\n",
    "Swapping letters is defined as taking two indices i and j (0-indexed) such that i != j and swapping the characters at s[i] and s[j]."
   ]
  },
  {
   "cell_type": "code",
   "execution_count": 5,
   "id": "68daf314-ae58-4af8-bba2-9082176dcc91",
   "metadata": {},
   "outputs": [
    {
     "name": "stdout",
     "output_type": "stream",
     "text": [
      "True\n"
     ]
    }
   ],
   "source": [
    "def buddyStrings(s, goal):\n",
    "    if len(s) != len(goal):\n",
    "        return False\n",
    "\n",
    "    diff_s = []\n",
    "    diff_goal = []\n",
    "\n",
    "    for i in range(len(s)):\n",
    "        if s[i] != goal[i]:\n",
    "            diff_s.append(s[i])\n",
    "            diff_goal.append(goal[i])\n",
    "\n",
    "            if len(diff_s) > 2:\n",
    "                return False\n",
    "\n",
    "    if len(diff_s) != len(diff_goal):\n",
    "        return False\n",
    "\n",
    "    if sorted(diff_s) == sorted(diff_goal):\n",
    "        return True\n",
    "\n",
    "    return False\n",
    "s = \"ab\"\n",
    "goal = \"ba\"\n",
    "print(buddyStrings(s, goal))\n",
    "\n",
    "#true"
   ]
  }
 ],
 "metadata": {
  "kernelspec": {
   "display_name": "Python 3 (ipykernel)",
   "language": "python",
   "name": "python3"
  },
  "language_info": {
   "codemirror_mode": {
    "name": "ipython",
    "version": 3
   },
   "file_extension": ".py",
   "mimetype": "text/x-python",
   "name": "python",
   "nbconvert_exporter": "python",
   "pygments_lexer": "ipython3",
   "version": "3.10.8"
  }
 },
 "nbformat": 4,
 "nbformat_minor": 5
}
