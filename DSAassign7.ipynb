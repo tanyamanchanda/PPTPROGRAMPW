{
 "cells": [
  {
   "cell_type": "markdown",
   "id": "bcd03f3c-f396-4254-902e-031230eb7299",
   "metadata": {},
   "source": [
    "Question 1**\n",
    "\n",
    "Given two strings s and t, *determine if they are isomorphic*.\n",
    "\n",
    "Two strings s and t are isomorphic if the characters in s can be replaced to get t.\n",
    "\n",
    "All occurrences of a character must be replaced with another character while preserving the order of characters. No two characters may map to the same character, but a character may map to itself."
   ]
  },
  {
   "cell_type": "code",
   "execution_count": 1,
   "id": "58febc4b-7a9c-402b-98a3-3be1081f455b",
   "metadata": {},
   "outputs": [
    {
     "name": "stdout",
     "output_type": "stream",
     "text": [
      "True\n"
     ]
    }
   ],
   "source": [
    "def is_isomorphic(s, t):\n",
    "    if len(s) != len(t):\n",
    "        return False\n",
    "    \n",
    "    char_map = {}\n",
    "    used_chars = set()\n",
    "    \n",
    "    for i in range(len(s)):\n",
    "        char_s = s[i]\n",
    "        char_t = t[i]\n",
    "        \n",
    "        if char_s in char_map:\n",
    "            if char_map[char_s] != char_t:\n",
    "                return False\n",
    "        else:\n",
    "            if char_t in used_chars:\n",
    "                return False\n",
    "            char_map[char_s] = char_t\n",
    "            used_chars.add(char_t)\n",
    "    \n",
    "    return True\n",
    "s = \"egg\"\n",
    "t = \"add\"\n",
    "print(is_isomorphic(s, t))\n",
    "#true"
   ]
  },
  {
   "cell_type": "markdown",
   "id": "f65ee0f5-9505-4eca-8aac-32cbe86b5fb1",
   "metadata": {},
   "source": [
    "Question 2**\n",
    "\n",
    "Given a string num which represents an integer, return true *if* num *is a **strobogrammatic number***.\n",
    "\n",
    "A **strobogrammatic number** is a number that looks the same when rotated 180 degrees (looked at upside down)."
   ]
  },
  {
   "cell_type": "code",
   "execution_count": 2,
   "id": "5c4024e4-b1d9-49b9-a2b1-f3654e205096",
   "metadata": {},
   "outputs": [
    {
     "name": "stdout",
     "output_type": "stream",
     "text": [
      "True\n"
     ]
    }
   ],
   "source": [
    "def is_strobogrammatic(num):\n",
    "    strobogrammatic_digits = {\n",
    "        '0': '0',\n",
    "        '1': '1',\n",
    "        '6': '9',\n",
    "        '8': '8',\n",
    "        '9': '6'\n",
    "    }\n",
    "    \n",
    "    left = 0\n",
    "    right = len(num) - 1\n",
    "    \n",
    "    while left <= right:\n",
    "        if num[left] not in strobogrammatic_digits or num[right] != strobogrammatic_digits[num[left]]:\n",
    "            return False\n",
    "        \n",
    "        left += 1\n",
    "        right -= 1\n",
    "    \n",
    "    return True\n",
    "num = \"69\"\n",
    "print(is_strobogrammatic(num))\n",
    "\n",
    "#true"
   ]
  },
  {
   "cell_type": "markdown",
   "id": "b5983bfe-252e-4abd-ae13-37b8655e0c04",
   "metadata": {},
   "source": [
    "Question 3**\n",
    "\n",
    "Given two non-negative integers, num1 and num2 represented as string, return *the sum of* num1 *and* num2 *as a string*.\n",
    "\n",
    "You must solve the problem without using any built-in library for handling large integers (such as BigInteger). You must also not convert the inputs to integers directly."
   ]
  },
  {
   "cell_type": "code",
   "execution_count": 5,
   "id": "2f281e28-3128-478a-ad62-1439305cd99e",
   "metadata": {},
   "outputs": [
    {
     "name": "stdout",
     "output_type": "stream",
     "text": [
      "134\n"
     ]
    }
   ],
   "source": [
    "def add_strings(num1, num2):\n",
    "    result = []\n",
    "    carry = 0\n",
    "    i = len(num1) - 1\n",
    "    j = len(num2) - 1\n",
    "    \n",
    "    while i >= 0 or j >= 0 or carry > 0:\n",
    "        digit1 = int(num1[i]) if i >= 0 else 0\n",
    "        digit2 = int(num2[j]) if j >= 0 else 0\n",
    "        \n",
    "        # Add digits and carry\n",
    "        total = digit1 + digit2 + carry\n",
    "        \n",
    "        # Update carry\n",
    "        carry = total // 10\n",
    "        \n",
    "        # Get the current digit (remainder after division)\n",
    "        digit = total % 10\n",
    "        \n",
    "        # Insert the digit at the beginning of the result list\n",
    "        result.insert(0, str(digit))\n",
    "        \n",
    "        # Move to the next digits\n",
    "        i -= 1\n",
    "        j -= 1\n",
    "    \n",
    "    # Convert the result list to a string\n",
    "    return ''.join(result)\n",
    "num1 = \"11\"\n",
    "num2 = \"123\"\n",
    "print(add_strings(num1, num2))\n",
    "#134"
   ]
  },
  {
   "cell_type": "markdown",
   "id": "92c5bf6c-2ac0-493f-b85c-5d539ef814e5",
   "metadata": {},
   "source": [
    "Question 4**\n",
    "\n",
    "Given a string s, reverse the order of characters in each word within a sentence while still preserving whitespace and initial word order."
   ]
  },
  {
   "cell_type": "code",
   "execution_count": 8,
   "id": "257d66ce-293a-4a29-9aee-27331981f024",
   "metadata": {},
   "outputs": [
    {
     "name": "stdout",
     "output_type": "stream",
     "text": [
      "s'teL ekat siht tsetnoc\n"
     ]
    }
   ],
   "source": [
    "def reverse_words(s):\n",
    "    words = s.split()\n",
    "    reversed_words = [word[::-1] for word in words]\n",
    "    reversed_sentence = ' '.join(reversed_words)\n",
    "    return reversed_sentence\n",
    "s = \"Let's take this contest\"\n",
    "print(reverse_words(s))\n",
    "#s'teL ekat siht tsetnoc\n"
   ]
  },
  {
   "cell_type": "markdown",
   "id": "fd659a2c-135c-4a59-b7d3-48a8aad8d43c",
   "metadata": {},
   "source": [
    "Question 5**\n",
    "\n",
    "Given a string s and an integer k, reverse the first k characters for every 2k characters counting from the start of the string.\n",
    "\n",
    "If there are fewer than k characters left, reverse all of them. If there are less than 2k but greater than or equal to k characters, then reverse the first k characters and leave the other as original."
   ]
  },
  {
   "cell_type": "code",
   "execution_count": 9,
   "id": "a77fd41b-bddd-4aa0-9949-ebf1f5d0fcd9",
   "metadata": {},
   "outputs": [
    {
     "name": "stdout",
     "output_type": "stream",
     "text": [
      "bacdfeg\n"
     ]
    }
   ],
   "source": [
    "def reverse_str(s, k):\n",
    "    # Convert string to list since strings in Python are immutable\n",
    "    lst = list(s)\n",
    "    n = len(s)\n",
    "    \n",
    "    for i in range(0, n, 2*k):\n",
    "        # Reverse the first k characters within each 2k segment\n",
    "        lst[i:i+k] = lst[i:i+k][::-1]\n",
    "    \n",
    "    # Convert the list back to a string\n",
    "    reversed_str = ''.join(lst)\n",
    "    return reversed_str\n",
    "s = \"abcdefg\"\n",
    "k = 2\n",
    "print(reverse_str(s, k))\n",
    "#\"bacdfeg\"\n"
   ]
  },
  {
   "cell_type": "markdown",
   "id": "b25518a2-81de-42ad-ab34-d728c760c0ba",
   "metadata": {},
   "source": [
    "Question 6**\n",
    "\n",
    "Given two strings s and goal, return true *if and only if* s *can become* goal *after some number of **shifts** on* s.\n",
    "\n",
    "A **shift** on s consists of moving the leftmost character of s to the rightmost position.\n",
    "\n",
    "- For example, if s = \"abcde\", then it will be \"bcdea\" after one shift.\n",
    "\n"
   ]
  },
  {
   "cell_type": "code",
   "execution_count": 10,
   "id": "b729c45a-5b41-46ac-805d-ea8d4859c2b1",
   "metadata": {},
   "outputs": [
    {
     "name": "stdout",
     "output_type": "stream",
     "text": [
      "True\n"
     ]
    }
   ],
   "source": [
    "def rotate_string(s, goal):\n",
    "    if len(s) != len(goal):\n",
    "        return False\n",
    "    concatenated = s + s\n",
    "    return goal in concatenated\n",
    "s = \"abcde\"\n",
    "goal = \"cdeab\"\n",
    "print(rotate_string(s, goal))\n",
    "\n",
    "#true"
   ]
  },
  {
   "cell_type": "markdown",
   "id": "917dc2d3-ffb2-4466-b340-e05b0b6935b3",
   "metadata": {},
   "source": [
    "Question 7**\n",
    "\n",
    "Given two strings s and t, return true *if they are equal when both are typed into empty text editors*. '#' means a backspace character.\n",
    "\n",
    "Note that after backspacing an empty text, the text will continue empty."
   ]
  },
  {
   "cell_type": "code",
   "execution_count": 11,
   "id": "1f627627-9ced-4896-84c3-6e8645361b0a",
   "metadata": {},
   "outputs": [
    {
     "name": "stdout",
     "output_type": "stream",
     "text": [
      "True\n"
     ]
    }
   ],
   "source": [
    "def backspace_compare(s, t):\n",
    "    def process_string(string):\n",
    "        stack = []\n",
    "        for char in string:\n",
    "            if char != '#':\n",
    "                stack.append(char)\n",
    "            elif stack:\n",
    "                stack.pop()\n",
    "        return stack\n",
    "\n",
    "    return process_string(s) == process_string(t)\n",
    "s = \"ab#c\"\n",
    "t = \"ad#c\"\n",
    "print(backspace_compare(s, t))\n",
    "#true"
   ]
  },
  {
   "cell_type": "markdown",
   "id": "d9686c53-90b0-42a0-aac5-6e8dca6fa4a6",
   "metadata": {},
   "source": [
    "Question 8**\n",
    "\n",
    "You are given an array coordinates, coordinates[i] = [x, y], where [x, y] represents the coordinate of a point. Check if these points make a straight line in the XY plane.\n"
   ]
  },
  {
   "cell_type": "code",
   "execution_count": 12,
   "id": "43fac764-447e-491e-b850-7c3527831898",
   "metadata": {},
   "outputs": [
    {
     "name": "stdout",
     "output_type": "stream",
     "text": [
      "True\n"
     ]
    }
   ],
   "source": [
    "def check_straight_line(coordinates):\n",
    "    x0, y0 = coordinates[0]\n",
    "    x1, y1 = coordinates[1]\n",
    "    for i in range(2, len(coordinates)):\n",
    "        xi, yi = coordinates[i]\n",
    "        # Calculate the slope between (xi, yi) and (x0, y0)\n",
    "        if (x1 - x0) * (yi - y0) != (xi - x0) * (y1 - y0):\n",
    "            return False\n",
    "    return True\n",
    "coordinates = [[1,2],[2,3],[3,4],[4,5],[5,6],[6,7]]\n",
    "print(check_straight_line(coordinates))\n",
    "\n",
    "#true"
   ]
  },
  {
   "cell_type": "code",
   "execution_count": null,
   "id": "1e93e03a-7f24-4b41-a0b3-3aeb4ab4860a",
   "metadata": {},
   "outputs": [],
   "source": []
  }
 ],
 "metadata": {
  "kernelspec": {
   "display_name": "Python 3 (ipykernel)",
   "language": "python",
   "name": "python3"
  },
  "language_info": {
   "codemirror_mode": {
    "name": "ipython",
    "version": 3
   },
   "file_extension": ".py",
   "mimetype": "text/x-python",
   "name": "python",
   "nbconvert_exporter": "python",
   "pygments_lexer": "ipython3",
   "version": "3.10.8"
  }
 },
 "nbformat": 4,
 "nbformat_minor": 5
}
