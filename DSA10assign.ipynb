{
 "cells": [
  {
   "cell_type": "markdown",
   "id": "9c9ccb93-223f-4b58-ab60-4700e72f9496",
   "metadata": {},
   "source": [
    "Delete Node in a Linked List"
   ]
  },
  {
   "cell_type": "code",
   "execution_count": 1,
   "id": "3b6041a7-3c93-43be-914a-1b98605f27cb",
   "metadata": {},
   "outputs": [
    {
     "name": "stdout",
     "output_type": "stream",
     "text": [
      "1 -> 2 -> 4 -> 5\n"
     ]
    }
   ],
   "source": [
    "class ListNode:\n",
    "    def __init__(self, val=0, next=None):\n",
    "        self.val = val\n",
    "        self.next = next\n",
    "\n",
    "def delete_node(node_to_delete):\n",
    "    if not node_to_delete:\n",
    "        return\n",
    "\n",
    "    if node_to_delete.next:\n",
    "        # Copy the value of the next node to the current node\n",
    "        node_to_delete.val = node_to_delete.next.val\n",
    "        # Skip the next node by updating the next pointer\n",
    "        node_to_delete.next = node_to_delete.next.next\n",
    "    else:\n",
    "        # If the node to delete is the last node, set it to None (remove it)\n",
    "        node_to_delete = None\n",
    "\n",
    "# Helper function to print linked list\n",
    "def print_linked_list(head):\n",
    "    result = []\n",
    "    current = head\n",
    "    while current:\n",
    "        result.append(str(current.val))\n",
    "        current = current.next\n",
    "    print(\" -> \".join(result))\n",
    "\n",
    "# Test case\n",
    "values = [1, 2, 3, 4, 5]\n",
    "head = None\n",
    "for val in values[::-1]:\n",
    "    head = ListNode(val, head)\n",
    "\n",
    "# Suppose we want to delete the node with value 3\n",
    "node_to_delete = head.next.next\n",
    "delete_node(node_to_delete)\n",
    "\n",
    "print_linked_list(head)  # Output: 5 -> 4 -> 2 -> 1\n"
   ]
  },
  {
   "cell_type": "markdown",
   "id": "b8e98f35-eb71-4f49-a5f9-31e0e01d4f50",
   "metadata": {},
   "source": [
    "Remove Linked List Elements"
   ]
  },
  {
   "cell_type": "code",
   "execution_count": 2,
   "id": "32818f7e-80fd-4ca1-a5c4-cde0ad0336de",
   "metadata": {},
   "outputs": [
    {
     "name": "stdout",
     "output_type": "stream",
     "text": [
      "1 -> 2 -> 3 -> 4 -> 5\n"
     ]
    }
   ],
   "source": [
    "class ListNode:\n",
    "    def __init__(self, val=0, next=None):\n",
    "        self.val = val\n",
    "        self.next = next\n",
    "\n",
    "def remove_elements(head, val):\n",
    "    dummy = ListNode(0)  # Create a dummy node to handle edge cases\n",
    "    dummy.next = head\n",
    "    current = dummy\n",
    "\n",
    "    while current.next:\n",
    "        if current.next.val == val:\n",
    "            # Skip the node with the target value by updating the next pointer\n",
    "            current.next = current.next.next\n",
    "        else:\n",
    "            current = current.next\n",
    "\n",
    "    return dummy.next  # Return the head of the modified linked list\n",
    "\n",
    "# Helper function to print linked list\n",
    "def print_linked_list(head):\n",
    "    result = []\n",
    "    current = head\n",
    "    while current:\n",
    "        result.append(str(current.val))\n",
    "        current = current.next\n",
    "    print(\" -> \".join(result))\n",
    "\n",
    "# Test case\n",
    "values = [1, 2, 6, 3, 4, 5, 6]\n",
    "head = None\n",
    "for val in values[::-1]:\n",
    "    head = ListNode(val, head)\n",
    "\n",
    "val_to_remove = 6\n",
    "head = remove_elements(head, val_to_remove)\n",
    "\n",
    "print_linked_list(head)  # Output: 5 -> 4 -> 3 -> 2 -> 1\n"
   ]
  },
  {
   "cell_type": "markdown",
   "id": "2d794e63-f53a-46fd-ba70-fd369dab3621",
   "metadata": {},
   "source": [
    "Merge Two Sorted List"
   ]
  },
  {
   "cell_type": "code",
   "execution_count": 3,
   "id": "001499ac-db49-4994-a6ea-989e530ebe68",
   "metadata": {},
   "outputs": [
    {
     "name": "stdout",
     "output_type": "stream",
     "text": [
      "1 -> 1 -> 2 -> 3 -> 4 -> 4\n"
     ]
    }
   ],
   "source": [
    "class ListNode:\n",
    "    def __init__(self, val=0, next=None):\n",
    "        self.val = val\n",
    "        self.next = next\n",
    "\n",
    "def merge_two_lists(head1, head2):\n",
    "    if not head1:\n",
    "        return head2\n",
    "    if not head2:\n",
    "        return head1\n",
    "\n",
    "    if head1.val < head2.val:\n",
    "        head1.next = merge_two_lists(head1.next, head2)\n",
    "        return head1\n",
    "    else:\n",
    "        head2.next = merge_two_lists(head1, head2.next)\n",
    "        return head2\n",
    "\n",
    "# Helper function to print linked list\n",
    "def print_linked_list(head):\n",
    "    result = []\n",
    "    current = head\n",
    "    while current:\n",
    "        result.append(str(current.val))\n",
    "        current = current.next\n",
    "    print(\" -> \".join(result))\n",
    "\n",
    "# Test cases\n",
    "values1 = [1, 2, 4]\n",
    "head1 = None\n",
    "for val in values1[::-1]:\n",
    "    head1 = ListNode(val, head1)\n",
    "\n",
    "values2 = [1, 3, 4]\n",
    "head2 = None\n",
    "for val in values2[::-1]:\n",
    "    head2 = ListNode(val, head2)\n",
    "\n",
    "merged_head = merge_two_lists(head1, head2)\n",
    "print_linked_list(merged_head)  # Output: 1 -> 1 -> 2 -> 3 -> 4 -> 4\n"
   ]
  },
  {
   "cell_type": "markdown",
   "id": "aad09f5c-e731-4783-bc70-098c7d5cd734",
   "metadata": {},
   "source": [
    "Linked List Cycle"
   ]
  },
  {
   "cell_type": "code",
   "execution_count": 4,
   "id": "de8a3722-fcc5-42e8-b361-b5a286d0e76a",
   "metadata": {},
   "outputs": [
    {
     "name": "stdout",
     "output_type": "stream",
     "text": [
      "True\n"
     ]
    }
   ],
   "source": [
    "class ListNode:\n",
    "    def __init__(self, val=0, next=None):\n",
    "        self.val = val\n",
    "        self.next = next\n",
    "\n",
    "def has_cycle(head):\n",
    "    if not head or not head.next:\n",
    "        return False\n",
    "\n",
    "    slow = head\n",
    "    fast = head.next\n",
    "\n",
    "    while slow != fast:\n",
    "        if not fast or not fast.next:\n",
    "            return False\n",
    "        slow = slow.next\n",
    "        fast = fast.next.next\n",
    "\n",
    "    return True\n",
    "\n",
    "# Test case with a cycle\n",
    "values = [3, 2, 0, -4]\n",
    "head = None\n",
    "cycle_node = None\n",
    "for i, val in enumerate(values[::-1]):\n",
    "    head = ListNode(val, head)\n",
    "    if i == 1:\n",
    "        cycle_node = head\n",
    "if cycle_node:\n",
    "    current = head\n",
    "    while current.next:\n",
    "        current = current.next\n",
    "    current.next = cycle_node\n",
    "\n",
    "print(has_cycle(head))  # Output: True\n"
   ]
  },
  {
   "cell_type": "markdown",
   "id": "80c43537-ac97-413a-8acc-fb8992285e65",
   "metadata": {},
   "source": [
    "Remove the Nth node from the linked list"
   ]
  },
  {
   "cell_type": "code",
   "execution_count": 5,
   "id": "e3546838-bf42-4d7f-b901-dfe81184010f",
   "metadata": {},
   "outputs": [
    {
     "name": "stdout",
     "output_type": "stream",
     "text": [
      "1 -> 2 -> 3 -> 5\n"
     ]
    }
   ],
   "source": [
    "class ListNode:\n",
    "    def __init__(self, val=0, next=None):\n",
    "        self.val = val\n",
    "        self.next = next\n",
    "\n",
    "def remove_nth_node(head, n):\n",
    "    dummy = ListNode(0)\n",
    "    dummy.next = head\n",
    "    first = dummy\n",
    "    second = dummy\n",
    "\n",
    "    # Move first pointer to the Nth node\n",
    "    for _ in range(n + 1):\n",
    "        first = first.next\n",
    "\n",
    "    # Move both pointers together until the first reaches the end\n",
    "    while first:\n",
    "        first = first.next\n",
    "        second = second.next\n",
    "\n",
    "    # Remove the Nth node\n",
    "    second.next = second.next.next\n",
    "\n",
    "    return dummy.next\n",
    "\n",
    "# Helper function to print linked list\n",
    "def print_linked_list(head):\n",
    "    result = []\n",
    "    current = head\n",
    "    while current:\n",
    "        result.append(str(current.val))\n",
    "        current = current.next\n",
    "    print(\" -> \".join(result))\n",
    "\n",
    "# Test case\n",
    "values = [1, 2, 3, 4, 5]\n",
    "head = None\n",
    "for val in values[::-1]:\n",
    "    head = ListNode(val, head)\n",
    "\n",
    "n_to_remove = 2\n",
    "head = remove_nth_node(head, n_to_remove)\n",
    "print_linked_list(head)  # Output: 5 -> 4 -> 3 -> 1\n"
   ]
  },
  {
   "cell_type": "markdown",
   "id": "d97f10fb-8371-4a75-8ade-9f7f819bb062",
   "metadata": {},
   "source": [
    "Given a singly linked list of size N. The task is to left-shift the linked list by k nodes, where k is a given positive integer smaller than or equal to the length of the linked list."
   ]
  },
  {
   "cell_type": "code",
   "execution_count": 6,
   "id": "2da87f43-e6ce-4460-9d26-6cf65a3ac092",
   "metadata": {},
   "outputs": [
    {
     "name": "stdout",
     "output_type": "stream",
     "text": [
      "7 -> 8 -> 9 -> 2 -> 4\n"
     ]
    }
   ],
   "source": [
    "class ListNode:\n",
    "    def __init__(self, val=0, next=None):\n",
    "        self.val = val\n",
    "        self.next = next\n",
    "\n",
    "def left_shift_linked_list(head, k):\n",
    "    if not head or k <= 0:\n",
    "        return head\n",
    "\n",
    "    # Calculate the length of the linked list\n",
    "    length = 0\n",
    "    current = head\n",
    "    while current:\n",
    "        length += 1\n",
    "        current = current.next\n",
    "\n",
    "    # Adjust k to be less than the length of the linked list\n",
    "    k = k % length\n",
    "\n",
    "    # If k is 0, no need to shift\n",
    "    if k == 0:\n",
    "        return head\n",
    "\n",
    "    # Find the kth node from the end (new_tail)\n",
    "    new_tail = head\n",
    "    for _ in range(length - k - 1):\n",
    "        new_tail = new_tail.next\n",
    "\n",
    "    # Break the link at new_tail and reconnect the end of the linked list to the head\n",
    "    new_head = new_tail.next\n",
    "    new_tail.next = None\n",
    "    current = new_head\n",
    "    while current.next:\n",
    "        current = current.next\n",
    "    current.next = head\n",
    "\n",
    "    return new_head\n",
    "\n",
    "# Helper function to print linked list\n",
    "def print_linked_list(head):\n",
    "    result = []\n",
    "    current = head\n",
    "    while current:\n",
    "        result.append(str(current.val))\n",
    "        current = current.next\n",
    "    print(\" -> \".join(result))\n",
    "\n",
    "# Test case\n",
    "values = [2, 4, 7, 8, 9]\n",
    "head = None\n",
    "for val in values[::-1]:\n",
    "    head = ListNode(val, head)\n",
    "\n",
    "k = 3\n",
    "head = left_shift_linked_list(head, k)\n",
    "print_linked_list(head)  # Output: 8 -> 9 -> 2 -> 4 -> 7\n"
   ]
  },
  {
   "cell_type": "markdown",
   "id": "165f4ad6-2f23-46bd-9bae-9b6a245017a0",
   "metadata": {},
   "source": [
    "Given the head of a linked list, we repeatedly delete consecutive sequences of nodes that sum to 0 until there are no such sequences.\n",
    "After doing so, return the head of the final linked list.  You may return any such answer."
   ]
  },
  {
   "cell_type": "code",
   "execution_count": 8,
   "id": "d9c60086-c9cb-4ae2-b3ac-ea5b00caa532",
   "metadata": {},
   "outputs": [
    {
     "name": "stdout",
     "output_type": "stream",
     "text": [
      "3 -> 1\n"
     ]
    }
   ],
   "source": [
    "class ListNode:\n",
    "    def __init__(self, val=0, next=None):\n",
    "        self.val = val\n",
    "        self.next = next\n",
    "\n",
    "def remove_zero_sum_sublists(head):\n",
    "    dummy = ListNode(0)  # Create a dummy node to handle edge cases\n",
    "    dummy.next = head\n",
    "    prefix_sum = {0: dummy}\n",
    "    current_sum = 0\n",
    "\n",
    "    while head:\n",
    "        current_sum += head.val\n",
    "\n",
    "        if current_sum in prefix_sum:\n",
    "            prev = prefix_sum[current_sum].next\n",
    "            # Remove the nodes between prev and head (inclusive)\n",
    "            remove_sum = current_sum\n",
    "            while prev != head:\n",
    "                remove_sum += prev.val\n",
    "                del prefix_sum[remove_sum]\n",
    "                prev = prev.next\n",
    "            # Connect the prev node to head.next to remove the zero-sum sequence\n",
    "            prefix_sum[current_sum].next = head.next\n",
    "        else:\n",
    "            prefix_sum[current_sum] = head\n",
    "\n",
    "        head = head.next\n",
    "\n",
    "    return dummy.next\n",
    "\n",
    "# Helper function to print linked list\n",
    "def print_linked_list(head):\n",
    "    result = []\n",
    "    current = head\n",
    "    while current:\n",
    "        result.append(str(current.val))\n",
    "        current = current.next\n",
    "    print(\" -> \".join(result))\n",
    "\n",
    "# Test case\n",
    "values = [1, 2, -3, 3, 1]\n",
    "head = None\n",
    "for val in values[::-1]:\n",
    "    head = ListNode(val, head)\n",
    "\n",
    "head = remove_zero_sum_sublists(head)\n",
    "print_linked_list(head)  # Output: 3 -> 1\n"
   ]
  },
  {
   "cell_type": "markdown",
   "id": "298b705b-6daa-46c5-b3e2-f91ffcd2f727",
   "metadata": {},
   "source": [
    "Given the head of a singly linked list, group all the nodes with odd indices together followed by the nodes with even indices, and return the reordered list.\n",
    "The first node is considered odd, and the second node is even, and so on."
   ]
  },
  {
   "cell_type": "code",
   "execution_count": 9,
   "id": "258c5c98-b794-4e10-b145-c4798deb8622",
   "metadata": {},
   "outputs": [
    {
     "name": "stdout",
     "output_type": "stream",
     "text": [
      "1 -> 3 -> 5 -> 2 -> 4\n"
     ]
    }
   ],
   "source": [
    "class ListNode:\n",
    "    def __init__(self, val=0, next=None):\n",
    "        self.val = val\n",
    "        self.next = next\n",
    "\n",
    "def odd_even_linked_list(head):\n",
    "    if not head or not head.next:\n",
    "        return head\n",
    "\n",
    "    odd_head = head\n",
    "    even_head = head.next\n",
    "    odd_tail = head\n",
    "    even_tail = head.next\n",
    "    current = head.next.next\n",
    "    is_odd = True\n",
    "\n",
    "    while current:\n",
    "        if is_odd:\n",
    "            odd_tail.next = current\n",
    "            odd_tail = current\n",
    "        else:\n",
    "            even_tail.next = current\n",
    "            even_tail = current\n",
    "\n",
    "        current = current.next\n",
    "        is_odd = not is_odd\n",
    "\n",
    "    odd_tail.next = even_head\n",
    "    even_tail.next = None\n",
    "\n",
    "    return odd_head\n",
    "\n",
    "# Helper function to print linked list\n",
    "def print_linked_list(head):\n",
    "    result = []\n",
    "    current = head\n",
    "    while current:\n",
    "        result.append(str(current.val))\n",
    "        current = current.next\n",
    "    print(\" -> \".join(result))\n",
    "\n",
    "# Test case\n",
    "values = [1, 2, 3, 4, 5]\n",
    "head = None\n",
    "for val in values[::-1]:\n",
    "    head = ListNode(val, head)\n",
    "\n",
    "head = odd_even_linked_list(head)\n",
    "print_linked_list(head)  # Output: 1 -> 3 -> 5 -> 2 -> 4\n"
   ]
  },
  {
   "cell_type": "code",
   "execution_count": null,
   "id": "abd4709a-4284-41de-a89c-e58833f02f65",
   "metadata": {},
   "outputs": [],
   "source": []
  }
 ],
 "metadata": {
  "kernelspec": {
   "display_name": "Python 3 (ipykernel)",
   "language": "python",
   "name": "python3"
  },
  "language_info": {
   "codemirror_mode": {
    "name": "ipython",
    "version": 3
   },
   "file_extension": ".py",
   "mimetype": "text/x-python",
   "name": "python",
   "nbconvert_exporter": "python",
   "pygments_lexer": "ipython3",
   "version": "3.10.8"
  }
 },
 "nbformat": 4,
 "nbformat_minor": 5
}
