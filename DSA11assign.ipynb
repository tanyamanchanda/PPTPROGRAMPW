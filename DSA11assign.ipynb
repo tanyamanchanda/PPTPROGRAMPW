{
 "cells": [
  {
   "cell_type": "markdown",
   "id": "8a98f824-568a-4667-b9db-1d5e2242b816",
   "metadata": {},
   "source": [
    "Make the String Great"
   ]
  },
  {
   "cell_type": "markdown",
   "id": "c93f8a51-b902-434f-bf3b-58250e5048fc",
   "metadata": {},
   "source": [
    "def make_great(s):\n",
    "    stack = []\n",
    "    for char in s:\n",
    "        if stack and abs(ord(char) - ord(stack[-1])) == 32:\n",
    "            stack.pop()\n",
    "        else:\n",
    "            stack.append(char)\n",
    "\n",
    "    return ''.join(stack)\n",
    "\n",
    "# Test case\n",
    "s = \"leEeetcode\"\n",
    "result = make_great(s)\n",
    "print(result)  # Output: \"leetcode\"\n"
   ]
  },
  {
   "cell_type": "markdown",
   "id": "3a22c75e-83bc-48ae-99e5-ed9a2cbb2697",
   "metadata": {},
   "source": [
    "Remove all adjacent duplicates in a String"
   ]
  },
  {
   "cell_type": "code",
   "execution_count": 7,
   "id": "bcf7e7e3-61a3-4c13-b753-06ec91c16e59",
   "metadata": {},
   "outputs": [
    {
     "name": "stdout",
     "output_type": "stream",
     "text": [
      "ca\n"
     ]
    }
   ],
   "source": [
    "def remove_duplicates(s):\n",
    "    stack = []\n",
    "    for char in s:\n",
    "        if stack and char == stack[-1]:\n",
    "            stack.pop()\n",
    "        else:\n",
    "            stack.append(char)\n",
    "\n",
    "    return ''.join(stack)\n",
    "\n",
    "# Test case\n",
    "s = \"abbaca\"\n",
    "result = remove_duplicates(s)\n",
    "print(result)  # Output: \"ca\"\n"
   ]
  },
  {
   "cell_type": "markdown",
   "id": "7a940c81-8dcb-4922-876e-3e063564ffc5",
   "metadata": {},
   "source": [
    "Online Stock Span"
   ]
  },
  {
   "cell_type": "code",
   "execution_count": 11,
   "id": "6a236932-0d77-46a6-a591-b0e4d6d6c2d7",
   "metadata": {},
   "outputs": [
    {
     "name": "stdout",
     "output_type": "stream",
     "text": [
      "[1, 1, 1, 2, 1, 4, 6]\n"
     ]
    }
   ],
   "source": [
    "class StockSpanner:\n",
    "    def __init__(self):\n",
    "        self.prices = []  # Stack to store the stock prices\n",
    "        self.spans = []  # Stack to store the corresponding spans\n",
    "\n",
    "    def next(self, price: int) -> int:\n",
    "        span = 1\n",
    "        while self.prices and self.prices[-1] <= price:\n",
    "            span += self.spans.pop()\n",
    "            self.prices.pop()\n",
    "        self.prices.append(price)\n",
    "        self.spans.append(span)\n",
    "        return span\n",
    "\n",
    "# Test case\n",
    "stock_prices = [100, 80, 60, 70, 60, 75, 85]\n",
    "spanner = StockSpanner()\n",
    "spans = [spanner.next(price) for price in stock_prices]\n",
    "print(spans)  # Output: [1, 1, 1, 2, 1, 4, 6]\n"
   ]
  },
  {
   "cell_type": "markdown",
   "id": "3944a0cb-94b2-4d6a-ba1c-26d7639cd3f0",
   "metadata": {},
   "source": [
    "Time Needed to buy tickets"
   ]
  },
  {
   "cell_type": "code",
   "execution_count": 12,
   "id": "5cb081e9-0e2b-443d-a8cc-8244ebd09a63",
   "metadata": {},
   "outputs": [
    {
     "name": "stdout",
     "output_type": "stream",
     "text": [
      "Time needed to buy tickets: 25 minutes\n"
     ]
    }
   ],
   "source": [
    "def time_needed_to_buy_tickets(ticket_processing_time, queue):\n",
    "    num_people_waiting = len(queue)\n",
    "    total_time = ticket_processing_time * num_people_waiting\n",
    "    return total_time\n",
    "\n",
    "# Test case\n",
    "ticket_processing_time = 5  # 5 minutes to process each ticket\n",
    "queue = [1, 2, 3, 4, 5]  # Queue of 5 people\n",
    "time_needed = time_needed_to_buy_tickets(ticket_processing_time, queue)\n",
    "print(f\"Time needed to buy tickets: {time_needed} minutes\")\n"
   ]
  },
  {
   "cell_type": "markdown",
   "id": "9e9fc7a1-d6df-43db-a0ab-d6539562e310",
   "metadata": {},
   "source": [
    "Product of the last K Numbers"
   ]
  },
  {
   "cell_type": "code",
   "execution_count": 13,
   "id": "b8360d97-19b0-4572-83a9-4145b385e0c2",
   "metadata": {},
   "outputs": [
    {
     "name": "stdout",
     "output_type": "stream",
     "text": [
      "Product of the last 2 numbers: 30\n"
     ]
    }
   ],
   "source": [
    "class ProductOfNumbers:\n",
    "    def __init__(self):\n",
    "        self.prefix_product = [1]\n",
    "\n",
    "    def add(self, num: int) -> None:\n",
    "        if num == 0:\n",
    "            self.prefix_product = [1]\n",
    "        else:\n",
    "            self.prefix_product.append(self.prefix_product[-1] * num)\n",
    "\n",
    "    def getProduct(self, k: int) -> int:\n",
    "        if k >= len(self.prefix_product):\n",
    "            return 0\n",
    "        return self.prefix_product[-1] // self.prefix_product[-k-1]\n",
    "\n",
    "# Test case\n",
    "product_calculator = ProductOfNumbers()\n",
    "nums = [3, 0, 2, 5, 6]\n",
    "for num in nums:\n",
    "    product_calculator.add(num)\n",
    "\n",
    "k = 2\n",
    "result = product_calculator.getProduct(k)\n",
    "print(f\"Product of the last {k} numbers: {result}\")  # Output: 30\n"
   ]
  },
  {
   "cell_type": "markdown",
   "id": "48217314-2bd4-438c-ae30-218734e6e964",
   "metadata": {},
   "source": [
    "Largest Rectangle in Histogram"
   ]
  },
  {
   "cell_type": "code",
   "execution_count": 14,
   "id": "556ecdc4-bb48-4ed9-944f-26331fec7367",
   "metadata": {},
   "outputs": [
    {
     "name": "stdout",
     "output_type": "stream",
     "text": [
      "Largest rectangle area in the histogram: 10\n"
     ]
    }
   ],
   "source": [
    "def largest_rectangle_area(heights):\n",
    "    stack = []\n",
    "    max_area = 0\n",
    "\n",
    "    for i in range(len(heights)):\n",
    "        while stack and heights[i] < heights[stack[-1]]:\n",
    "            height = heights[stack.pop()]\n",
    "            width = i if not stack else i - stack[-1] - 1\n",
    "            max_area = max(max_area, height * width)\n",
    "        stack.append(i)\n",
    "\n",
    "    while stack:\n",
    "        height = heights[stack.pop()]\n",
    "        width = len(heights) if not stack else len(heights) - stack[-1] - 1\n",
    "        max_area = max(max_area, height * width)\n",
    "\n",
    "    return max_area\n",
    "\n",
    "# Test case\n",
    "histogram = [2, 1, 5, 6, 2, 3]\n",
    "result = largest_rectangle_area(histogram)\n",
    "print(f\"Largest rectangle area in the histogram: {result}\")  # Output: 10\n"
   ]
  },
  {
   "cell_type": "markdown",
   "id": "00eedf72-4f01-4abd-b3af-67c1abeb5776",
   "metadata": {},
   "source": [
    "Sliding Window Maximum"
   ]
  },
  {
   "cell_type": "code",
   "execution_count": 15,
   "id": "fe32d985-e0bb-4310-b65f-a7558150e91d",
   "metadata": {},
   "outputs": [
    {
     "name": "stdout",
     "output_type": "stream",
     "text": [
      "[3, 3, 5, 5, 6, 7]\n"
     ]
    }
   ],
   "source": [
    "from collections import deque\n",
    "\n",
    "def max_sliding_window(nums, k):\n",
    "    if not nums:\n",
    "        return []\n",
    "\n",
    "    def clean_deque(i):\n",
    "        # Remove indices that are out of the current window\n",
    "        if deq and deq[0] == i - k:\n",
    "            deq.popleft()\n",
    "\n",
    "        # Remove indices of elements smaller than the current element\n",
    "        while deq and nums[i] > nums[deq[-1]]:\n",
    "            deq.pop()\n",
    "\n",
    "    deq = deque()\n",
    "    max_indices = []\n",
    "    \n",
    "    # Initialize the deque for the first k elements\n",
    "    for i in range(k):\n",
    "        clean_deque(i)\n",
    "        deq.append(i)\n",
    "        \n",
    "    max_indices.append(nums[deq[0]])\n",
    "\n",
    "    # Continue sliding the window\n",
    "    for i in range(k, len(nums)):\n",
    "        clean_deque(i)\n",
    "        deq.append(i)\n",
    "        max_indices.append(nums[deq[0]])\n",
    "\n",
    "    return max_indices\n",
    "\n",
    "# Test case\n",
    "nums = [1, 3, -1, -3, 5, 3, 6, 7]\n",
    "k = 3\n",
    "result = max_sliding_window(nums, k)\n",
    "print(result)  # Output: [3, 3, 5, 5, 6, 7]\n"
   ]
  },
  {
   "cell_type": "markdown",
   "id": "3593b41e-2eab-4c7f-9ab4-9ca90d54451f",
   "metadata": {},
   "source": [
    "Design a circular queue data structure with the following operations: enQueue, deQueue, Front, Rear, and isEmpty."
   ]
  },
  {
   "cell_type": "code",
   "execution_count": 16,
   "id": "ed17db6e-9f38-41ca-a27d-0a635ebeece9",
   "metadata": {},
   "outputs": [
    {
     "name": "stdout",
     "output_type": "stream",
     "text": [
      "True\n",
      "True\n",
      "True\n",
      "True\n",
      "4\n",
      "False\n",
      "True\n",
      "True\n",
      "5\n"
     ]
    }
   ],
   "source": [
    "class MyCircularQueue:\n",
    "    def __init__(self, k: int):\n",
    "        self.queue = [0] * k\n",
    "        self.front = self.rear = -1\n",
    "        self.size = 0\n",
    "        self.capacity = k\n",
    "\n",
    "    def enQueue(self, value: int) -> bool:\n",
    "        if self.isFull():\n",
    "            return False\n",
    "        \n",
    "        if self.isEmpty():\n",
    "            self.front = self.rear = 0\n",
    "        else:\n",
    "            self.rear = (self.rear + 1) % self.capacity\n",
    "\n",
    "        self.queue[self.rear] = value\n",
    "        self.size += 1\n",
    "        return True\n",
    "\n",
    "    def deQueue(self) -> bool:\n",
    "        if self.isEmpty():\n",
    "            return False\n",
    "\n",
    "        if self.front == self.rear:\n",
    "            self.front = self.rear = -1\n",
    "        else:\n",
    "            self.front = (self.front + 1) % self.capacity\n",
    "\n",
    "        self.size -= 1\n",
    "        return True\n",
    "\n",
    "    def Front(self) -> int:\n",
    "        if self.isEmpty():\n",
    "            return -1\n",
    "        return self.queue[self.front]\n",
    "\n",
    "    def Rear(self) -> int:\n",
    "        if self.isEmpty():\n",
    "            return -1\n",
    "        return self.queue[self.rear]\n",
    "\n",
    "    def isEmpty(self) -> bool:\n",
    "        return self.size == 0\n",
    "\n",
    "    def isFull(self) -> bool:\n",
    "        return self.size == self.capacity\n",
    "\n",
    "# Test case\n",
    "circular_queue = MyCircularQueue(5)\n",
    "print(circular_queue.enQueue(1))  # Output: True\n",
    "print(circular_queue.enQueue(2))  # Output: True\n",
    "print(circular_queue.enQueue(3))  # Output: True\n",
    "print(circular_queue.enQueue(4))  # Output: True\n",
    "print(circular_queue.Rear())     # Output: 4\n",
    "print(circular_queue.isFull())   # Output: True\n",
    "print(circular_queue.deQueue())  # Output: True\n",
    "print(circular_queue.enQueue(5))  # Output: True\n",
    "print(circular_queue.Rear())     # Output: 5\n"
   ]
  },
  {
   "cell_type": "code",
   "execution_count": null,
   "id": "2501bcce-4634-497b-80e8-75b8c1d56d7a",
   "metadata": {},
   "outputs": [],
   "source": []
  }
 ],
 "metadata": {
  "kernelspec": {
   "display_name": "Python 3 (ipykernel)",
   "language": "python",
   "name": "python3"
  },
  "language_info": {
   "codemirror_mode": {
    "name": "ipython",
    "version": 3
   },
   "file_extension": ".py",
   "mimetype": "text/x-python",
   "name": "python",
   "nbconvert_exporter": "python",
   "pygments_lexer": "ipython3",
   "version": "3.10.8"
  }
 },
 "nbformat": 4,
 "nbformat_minor": 5
}
