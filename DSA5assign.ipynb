{
 "cells": [
  {
   "cell_type": "markdown",
   "id": "3d9e4543-1ad0-405c-b4a2-c951db5f5801",
   "metadata": {},
   "source": [
    "Question 1**\n",
    "\n",
    "Convert 1D Array Into 2D Array\n",
    "\n",
    "You are given a **0-indexed** 1-dimensional (1D) integer array original, and two integers, m and n. You are tasked with creating a 2-dimensional (2D) array with  m rows and n columns using **all** the elements from original.\n",
    "\n",
    "The elements from indices 0 to n - 1 (**inclusive**) of original should form the first row of the constructed 2D array, the elements from indices n to 2 * n - 1 (**inclusive**) should form the second row of the constructed 2D array, and so on.\n",
    "\n",
    "Return *an* m x n *2D array constructed according to the above procedure, or an empty 2D array if it is impossible*."
   ]
  },
  {
   "cell_type": "code",
   "execution_count": 1,
   "id": "d9011df1-d45a-4ae8-b801-2e1940f88703",
   "metadata": {},
   "outputs": [
    {
     "name": "stdout",
     "output_type": "stream",
     "text": [
      "[[1, 2], [3, 4]]\n"
     ]
    }
   ],
   "source": [
    "def convert_to_2d_array(original, m, n):\n",
    "    if len(original) != m * n:\n",
    "        return []\n",
    "    \n",
    "    result = [[0] * n for _ in range(m)]\n",
    "    \n",
    "    for i in range(len(original)):\n",
    "        row = i // n\n",
    "        col = i % n\n",
    "        result[row][col] = original[i]\n",
    "    \n",
    "    return result\n",
    "original = [1, 2, 3, 4]\n",
    "m = 2\n",
    "n = 2\n",
    "print(convert_to_2d_array(original, m, n))\n",
    "#output[[1, 2], [3, 4]]"
   ]
  },
  {
   "cell_type": "markdown",
   "id": "4a382a0c-5288-4d05-87d7-36aa7db6328c",
   "metadata": {},
   "source": [
    "Question 2\n",
    "\n",
    "You have n coins and you want to build a staircase with these coins. The staircase consists of k rows where the ith row has exactly i coins. The last row of the staircase **may be** incomplete.\n",
    "\n",
    "Given the integer n, return *the number of **complete rows** of the staircase you will build*.\n"
   ]
  },
  {
   "cell_type": "code",
   "execution_count": 2,
   "id": "cb61417d-567f-4f63-9309-8c2d0f32ea03",
   "metadata": {},
   "outputs": [
    {
     "name": "stdout",
     "output_type": "stream",
     "text": [
      "2\n"
     ]
    }
   ],
   "source": [
    "def count_complete_rows(n):\n",
    "    k = 0\n",
    "    while (k * (k + 1)) // 2 <= n:\n",
    "        k += 1\n",
    "    return k - 1\n",
    "n = 5\n",
    "print(count_complete_rows(n))\n",
    "#output2"
   ]
  },
  {
   "cell_type": "markdown",
   "id": "350ed5bd-389b-4ce6-98a0-5850fffcfc06",
   "metadata": {},
   "source": [
    "Question 3**\n",
    "\n",
    "Given an integer array nums sorted in **non-decreasing** order, return *an array of **the squares of each number** sorted in non-decreasing order*.\n"
   ]
  },
  {
   "cell_type": "code",
   "execution_count": 3,
   "id": "8602bc8e-6412-428a-b7a6-2686621667b0",
   "metadata": {},
   "outputs": [
    {
     "name": "stdout",
     "output_type": "stream",
     "text": [
      "[0, 1, 9, 16, 100]\n"
     ]
    }
   ],
   "source": [
    "def sorted_squares(nums):\n",
    "    squared_nums = [num ** 2 for num in nums]\n",
    "    squared_nums.sort()\n",
    "    return squared_nums\n",
    "nums = [-4, -1, 0, 3, 10]\n",
    "print(sorted_squares(nums))\n",
    "#output[0, 1, 9, 16, 100]\n"
   ]
  },
  {
   "cell_type": "markdown",
   "id": "14810997-3879-413c-8a54-4a9fc2fb0847",
   "metadata": {},
   "source": [
    "Question 4**\n",
    "\n",
    "Given two **0-indexed** integer arrays nums1 and nums2, return *a list* answer *of size* 2 *where:*\n",
    "\n",
    "- answer[0] *is a list of all **distinct** integers in* nums1 *which are **not** present in* nums2*.*\n",
    "- answer[1] *is a list of all **distinct** integers in* nums2 *which are **not** present in* nums1.\n",
    "\n",
    "**Note** that the integers in the lists may be returned in **any** order.\n"
   ]
  },
  {
   "cell_type": "code",
   "execution_count": 4,
   "id": "5e32d982-d1e2-48c3-be33-1d6e9b336f38",
   "metadata": {},
   "outputs": [
    {
     "name": "stdout",
     "output_type": "stream",
     "text": [
      "[[4, 6], [1, 3]]\n"
     ]
    }
   ],
   "source": [
    "def find_missing_elements(nums1, nums2):\n",
    "    set_nums1 = set(nums1)\n",
    "    set_nums2 = set(nums2)\n",
    "    \n",
    "    not_in_nums2 = [num for num in nums1 if num not in set_nums2]\n",
    "    not_in_nums1 = [num for num in nums2 if num not in set_nums1]\n",
    "    \n",
    "    return [not_in_nums1, not_in_nums2]\n",
    "nums1 = [1, 2, 3]\n",
    "nums2 = [2, 4, 6]\n",
    "print(find_missing_elements(nums1, nums2))\n",
    "#output[[4, 6], [1, 3]]\n"
   ]
  },
  {
   "cell_type": "markdown",
   "id": "4bd4e60f-d9ea-4ada-bace-533eadcfba7a",
   "metadata": {},
   "source": [
    "Question 5**\n",
    "\n",
    "Given two integer arrays arr1 and arr2, and the integer d, *return the distance value between the two arrays*.\n",
    "\n",
    "The distance value is defined as the number of elements arr1[i] such that there is not any element arr2[j] where |arr1[i]-arr2[j]| <= d."
   ]
  },
  {
   "cell_type": "code",
   "execution_count": 5,
   "id": "1061abd9-7583-45dd-a631-076fa8d377ee",
   "metadata": {},
   "outputs": [
    {
     "name": "stdout",
     "output_type": "stream",
     "text": [
      "2\n"
     ]
    }
   ],
   "source": [
    "def distance_value(arr1, arr2, d):\n",
    "    count = 0\n",
    "    \n",
    "    for num1 in arr1:\n",
    "        for num2 in arr2:\n",
    "            if abs(num1 - num2) <= d:\n",
    "                break\n",
    "        else:\n",
    "            count += 1\n",
    "    \n",
    "    return count\n",
    "arr1 = [4, 5, 8]\n",
    "arr2 = [10, 9, 1, 8]\n",
    "d = 2\n",
    "print(distance_value(arr1, arr2, d))\n",
    "#output2"
   ]
  },
  {
   "cell_type": "markdown",
   "id": "72db7f2a-c3e5-4ba8-b5c1-f7cb9984434d",
   "metadata": {},
   "source": [
    "Question 6**\n",
    "\n",
    "Given an integer array nums of length n where all the integers of nums are in the range [1, n] and each integer appears **once** or **twice**, return *an array of all the integers that appears **twice***.\n",
    "\n",
    "You must write an algorithm that runs in O(n) time and uses only constant extra space."
   ]
  },
  {
   "cell_type": "code",
   "execution_count": 7,
   "id": "1f57185c-fd64-4866-8068-a569cf0fe802",
   "metadata": {},
   "outputs": [
    {
     "name": "stdout",
     "output_type": "stream",
     "text": [
      "[2, 3]\n"
     ]
    }
   ],
   "source": [
    "def find_duplicates(nums):\n",
    "    result = []\n",
    "    \n",
    "    for num in nums:\n",
    "        index = abs(num) - 1\n",
    "        if nums[index] < 0:\n",
    "            result.append(abs(num))\n",
    "        else:\n",
    "            nums[index] *= -1\n",
    "    \n",
    "    return result\n",
    "nums = [4, 3, 2, 7, 8, 2, 3, 1]\n",
    "print(find_duplicates(nums))\n",
    "#output[2, 3]"
   ]
  },
  {
   "cell_type": "markdown",
   "id": "0c1b1335-57a5-4544-a1a0-5b300ac1b28f",
   "metadata": {},
   "source": [
    "Question 7**\n",
    "\n",
    "Suppose an array of length n sorted in ascending order is **rotated** between 1 and n times. For example, the array nums = [0,1,2,4,5,6,7] might become:\n",
    "\n",
    "- [4,5,6,7,0,1,2] if it was rotated 4 times.\n",
    "- [0,1,2,4,5,6,7] if it was rotated 7 times.\n",
    "\n",
    "Notice that **rotating** an array [a[0], a[1], a[2], ..., a[n-1]] 1 time results in the array [a[n-1], a[0], a[1], a[2], ..., a[n-2]].\n",
    "\n",
    "Given the sorted rotated array nums of **unique** elements, return *the minimum element of this array*.\n",
    "\n",
    "You must write an algorithm that runs in O(log n) time."
   ]
  },
  {
   "cell_type": "code",
   "execution_count": 8,
   "id": "57046791-9944-4f45-8afd-30c7ece1736f",
   "metadata": {},
   "outputs": [
    {
     "name": "stdout",
     "output_type": "stream",
     "text": [
      "1\n"
     ]
    }
   ],
   "source": [
    "def find_minimum(nums):\n",
    "    left, right = 0, len(nums) - 1\n",
    "    \n",
    "    if nums[left] < nums[right]:\n",
    "        return nums[left]\n",
    "    \n",
    "    while left < right:\n",
    "        mid = (left + right) // 2\n",
    "        \n",
    "        if nums[mid] > nums[right]:\n",
    "            left = mid + 1\n",
    "        else:\n",
    "            right = mid\n",
    "    \n",
    "    return nums[left]\n",
    "nums = [3, 4, 5, 1, 2]\n",
    "print(find_minimum(nums))\n",
    "#output1"
   ]
  },
  {
   "cell_type": "code",
   "execution_count": null,
   "id": "14d91ac0-05cd-4060-b269-23bc158a87d5",
   "metadata": {},
   "outputs": [],
   "source": []
  }
 ],
 "metadata": {
  "kernelspec": {
   "display_name": "Python 3 (ipykernel)",
   "language": "python",
   "name": "python3"
  },
  "language_info": {
   "codemirror_mode": {
    "name": "ipython",
    "version": 3
   },
   "file_extension": ".py",
   "mimetype": "text/x-python",
   "name": "python",
   "nbconvert_exporter": "python",
   "pygments_lexer": "ipython3",
   "version": "3.10.8"
  }
 },
 "nbformat": 4,
 "nbformat_minor": 5
}
