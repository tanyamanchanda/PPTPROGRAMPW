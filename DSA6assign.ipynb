{
 "cells": [
  {
   "cell_type": "markdown",
   "id": "53ab46f5-06f4-49c3-a7b3-b9eaa60e63ee",
   "metadata": {},
   "source": [
    "Question 1**\n",
    "\n",
    "A permutation perm of n + 1 integers of all the integers in the range [0, n] can be represented as a string s of length n where:\n",
    "\n",
    "- s[i] == 'I' if perm[i] < perm[i + 1], and\n",
    "- s[i] == 'D' if perm[i] > perm[i + 1].\n",
    "\n",
    "Given a string s, reconstruct the permutation perm and return it. If there are multiple valid permutations perm, return **any of them**"
   ]
  },
  {
   "cell_type": "code",
   "execution_count": 1,
   "id": "93ba82d9-d2dd-4450-a3ac-81d6aa02bd0e",
   "metadata": {},
   "outputs": [
    {
     "name": "stdout",
     "output_type": "stream",
     "text": [
      "[0, 4, 1, 3, 2]\n"
     ]
    }
   ],
   "source": [
    "def reconstruct_permutation(s):\n",
    "    low, high = 0, len(s)\n",
    "    perm = []\n",
    "    \n",
    "    for c in s:\n",
    "        if c == 'I':\n",
    "            perm.append(low)\n",
    "            low += 1\n",
    "        elif c == 'D':\n",
    "            perm.append(high)\n",
    "            high -= 1\n",
    "    \n",
    "    perm.append(low)\n",
    "    \n",
    "    return perm\n",
    "s = \"IDID\"\n",
    "print(reconstruct_permutation(s))\n",
    "#output[0, 4, 1, 3, 2]\n"
   ]
  },
  {
   "cell_type": "markdown",
   "id": "485c3270-f294-4335-9e72-0455faaed018",
   "metadata": {},
   "source": [
    "Question 2\n",
    "\n",
    "You are given an m x n integer matrix matrix with the following two properties:\n",
    "\n",
    "- Each row is sorted in non-decreasing order.\n",
    "- The first integer of each row is greater than the last integer of the previous row.\n",
    "\n",
    "Given an integer target, return true *if* target *is in* matrix *or* false *otherwise*.\n",
    "\n",
    "You must write a solution in O(log(m * n)) time complexity."
   ]
  },
  {
   "cell_type": "code",
   "execution_count": 2,
   "id": "847ac63f-6671-4e40-b730-3a0c85ec40b1",
   "metadata": {},
   "outputs": [
    {
     "name": "stdout",
     "output_type": "stream",
     "text": [
      "True\n"
     ]
    }
   ],
   "source": [
    "def search_matrix(matrix, target):\n",
    "    m = len(matrix)\n",
    "    n = len(matrix[0])\n",
    "    \n",
    "    left = 0\n",
    "    right = m * n - 1\n",
    "    \n",
    "    while left <= right:\n",
    "        middle = (left + right) // 2\n",
    "        row = middle // n\n",
    "        col = middle % n\n",
    "        \n",
    "        if matrix[row][col] == target:\n",
    "            return True\n",
    "        elif matrix[row][col] < target:\n",
    "            left = middle + 1\n",
    "        else:\n",
    "            right = middle - 1\n",
    "    \n",
    "    return False\n",
    "matrix = [[1, 3, 5, 7], [10, 11, 16, 20], [23, 30, 34, 60]]\n",
    "target = 3\n",
    "print(search_matrix(matrix, target))\n",
    "#outputTrue\n"
   ]
  },
  {
   "cell_type": "markdown",
   "id": "3215fda4-0735-45ae-bfed-17a770024bc4",
   "metadata": {},
   "source": [
    "Question 3\n",
    "\n",
    "Given an array of integers arr, return *true if and only if it is a valid mountain array*.\n",
    "\n",
    "Recall that arr is a mountain array if and only if:\n",
    "\n",
    "- arr.length >= 3\n",
    "- There exists some i with 0 < i < arr.length - 1 such that:\n",
    "    - arr[0] < arr[1] < ... < arr[i - 1] < arr[i]\n",
    "    - arr[i] > arr[i + 1] > ... > arr[arr.length - 1]"
   ]
  },
  {
   "cell_type": "code",
   "execution_count": 3,
   "id": "f0667fbe-4b98-495f-90c7-28ebd9f6ca70",
   "metadata": {},
   "outputs": [
    {
     "name": "stdout",
     "output_type": "stream",
     "text": [
      "False\n"
     ]
    }
   ],
   "source": [
    "def valid_mountain_array(arr):\n",
    "    if len(arr) < 3:\n",
    "        return False\n",
    "\n",
    "    left = 0\n",
    "    right = len(arr) - 1\n",
    "\n",
    "    while left < right and arr[left] < arr[left + 1]:\n",
    "        left += 1\n",
    "\n",
    "    while left < right and arr[right] < arr[right - 1]:\n",
    "        right -= 1\n",
    "\n",
    "    if left == 0 or right == len(arr) - 1:\n",
    "        return False\n",
    "\n",
    "    if left == right:\n",
    "        return False\n",
    "\n",
    "    return True\n",
    "arr = [2, 1]\n",
    "print(valid_mountain_array(arr))\n",
    "#false"
   ]
  },
  {
   "cell_type": "markdown",
   "id": "aad9ad21-182a-4a7d-ac9b-6fdbcb95ae80",
   "metadata": {},
   "source": [
    "Question 4**\n",
    "\n",
    "Given a binary array nums, return *the maximum length of a contiguous subarray with an equal number of* 0 *and* 1.\n"
   ]
  },
  {
   "cell_type": "code",
   "execution_count": 4,
   "id": "666e9195-3473-4b73-832c-ebef8e57abdf",
   "metadata": {},
   "outputs": [
    {
     "name": "stdout",
     "output_type": "stream",
     "text": [
      "2\n"
     ]
    }
   ],
   "source": [
    "def find_max_length(nums):\n",
    "    max_length = 0\n",
    "    sum_map = {0: -1}\n",
    "    sum = 0\n",
    "    \n",
    "    for i, num in enumerate(nums):\n",
    "        if num == 0:\n",
    "            sum -= 1\n",
    "        else:\n",
    "            sum += 1\n",
    "        \n",
    "        if sum in sum_map:\n",
    "            length = i - sum_map[sum]\n",
    "            max_length = max(max_length, length)\n",
    "        else:\n",
    "            sum_map[sum] = i\n",
    "    \n",
    "    return max_length\n",
    "nums = [0, 1]\n",
    "print(find_max_length(nums))\n",
    "\n",
    "#2"
   ]
  },
  {
   "cell_type": "markdown",
   "id": "564b9b26-cd11-4a9a-bbe8-a1c49b8c82fd",
   "metadata": {},
   "source": [
    "Question 5**\n",
    "\n",
    "The **product sum** of two equal-length arrays a and b is equal to the sum of a[i] * b[i] for all 0 <= i < a.length (**0-indexed**).\n",
    "\n",
    "- For example, if a = [1,2,3,4] and b = [5,2,3,1], the **product sum** would be 1*5 + 2*2 + 3*3 + 4*1 = 22.\n",
    "\n",
    "Given two arrays nums1 and nums2 of length n, return *the **minimum product sum** if you are allowed to **rearrange** the **order** of the elements in* nums1."
   ]
  },
  {
   "cell_type": "code",
   "execution_count": 6,
   "id": "cc616c9c-27d3-4265-a0c4-9abd4435c7ae",
   "metadata": {},
   "outputs": [
    {
     "name": "stdout",
     "output_type": "stream",
     "text": [
      "51\n"
     ]
    }
   ],
   "source": [
    "def min_product_sum(nums1, nums2):\n",
    "    nums1.sort()\n",
    "    nums2.sort()\n",
    "    \n",
    "    min_product_sum = 0\n",
    "    \n",
    "    for num1, num2 in zip(nums1, nums2):\n",
    "        min_product_sum += num1 * num2\n",
    "    \n",
    "    return min_product_sum\n",
    "nums1 = [5, 3, 4, 2]\n",
    "nums2 = [4, 2, 2, 5]\n",
    "print(min_product_sum(nums1, nums2))\n",
    "#51"
   ]
  },
  {
   "cell_type": "markdown",
   "id": "3ab055f7-674f-4d55-bdb0-a662f227b1ba",
   "metadata": {},
   "source": [
    "Question 6**\n",
    "\n",
    "An integer array original is transformed into a **doubled** array changed by appending **twice the value** of every element in original, and then randomly **shuffling** the resulting array.\n",
    "\n",
    "Given an array changed, return original *if* changed *is a **doubled** array. If* changed *is not a **doubled** array, return an empty array. The elements in* original *may be returned in **any** order*."
   ]
  },
  {
   "cell_type": "code",
   "execution_count": 8,
   "id": "67cf2bc7-df54-46e3-b826-097207415e7f",
   "metadata": {},
   "outputs": [
    {
     "name": "stdout",
     "output_type": "stream",
     "text": [
      "[0, 1, 2, 1, 3, 4]\n"
     ]
    }
   ],
   "source": [
    "from collections import defaultdict\n",
    "\n",
    "def find_original_array(changed):\n",
    "    count = defaultdict(int)\n",
    "    \n",
    "    for num in changed:\n",
    "        count[num] += 1\n",
    "    \n",
    "    original = []\n",
    "    \n",
    "    for num in changed:\n",
    "        if count[num] > 0:\n",
    "            count[num] -= 1\n",
    "            original.append(num // 2)\n",
    "    \n",
    "    for val in count.values():\n",
    "        if val != 0:\n",
    "            return []\n",
    "    \n",
    "    return original\n",
    "changed = [1, 3, 4, 2, 6, 8]\n",
    "print(find_original_array(changed))\n",
    "#[0, 1, 2, 1, 3, 4]"
   ]
  },
  {
   "cell_type": "markdown",
   "id": "44a9bcac-3a0c-4978-bf87-89b45e141094",
   "metadata": {},
   "source": [
    "Question 7**\n",
    "\n",
    "Given a positive integer n, generate an n x n matrix filled with elements from 1 to n2 in spiral order."
   ]
  },
  {
   "cell_type": "code",
   "execution_count": 9,
   "id": "8c1e93d7-a52c-44c3-b12a-a4b975983ffb",
   "metadata": {},
   "outputs": [
    {
     "name": "stdout",
     "output_type": "stream",
     "text": [
      "[[1, 2, 3], [8, 9, 4], [7, 6, 5]]\n"
     ]
    }
   ],
   "source": [
    "def generate_spiral_matrix(n):\n",
    "    matrix = [[0] * n for _ in range(n)]\n",
    "    row_start, row_end = 0, n - 1\n",
    "    col_start, col_end = 0, n - 1\n",
    "    num = 1\n",
    "    \n",
    "    while num <= n * n:\n",
    "        for j in range(col_start, col_end + 1):\n",
    "            matrix[row_start][j] = num\n",
    "            num += 1\n",
    "        row_start += 1\n",
    "        \n",
    "        for i in range(row_start, row_end + 1):\n",
    "            matrix[i][col_end] = num\n",
    "            num += 1\n",
    "        col_end -= 1\n",
    "        \n",
    "        for j in range(col_end, col_start - 1, -1):\n",
    "            matrix[row_end][j] = num\n",
    "            num += 1\n",
    "        row_end -= 1\n",
    "        \n",
    "        for i in range(row_end, row_start - 1, -1):\n",
    "            matrix[i][col_start] = num\n",
    "            num += 1\n",
    "        col_start += 1\n",
    "    \n",
    "    return matrix\n",
    "n = 3\n",
    "print(generate_spiral_matrix(n))\n",
    "#[[1, 2, 3], [8, 9, 4], [7, 6, 5]]\n"
   ]
  },
  {
   "cell_type": "markdown",
   "id": "11ae816f-f19e-4229-9ce8-e3fb5177618c",
   "metadata": {},
   "source": [
    "Question 8**\n",
    "\n",
    "Given two  mat1 of size m x k and mat2 of size k x n, return the result of mat1 x mat2. You may assume that multiplication is always possible.\n"
   ]
  },
  {
   "cell_type": "code",
   "execution_count": 10,
   "id": "c4b4555a-eed5-4657-a8b2-8bcbd075c097",
   "metadata": {},
   "outputs": [
    {
     "name": "stdout",
     "output_type": "stream",
     "text": [
      "[[7, 0, 0], [-7, 0, 3]]\n"
     ]
    }
   ],
   "source": [
    "def multiply_sparse_matrices(mat1, mat2):\n",
    "    m, k = len(mat1), len(mat1[0])\n",
    "    n = len(mat2[0])\n",
    "    result = [[0] * n for _ in range(m)]\n",
    "    \n",
    "    for i in range(m):\n",
    "        for j in range(n):\n",
    "            temp = 0\n",
    "            for x in range(k):\n",
    "                temp += mat1[i][x] * mat2[x][j]\n",
    "            if temp != 0:\n",
    "                result[i][j] = temp\n",
    "    \n",
    "    return result\n",
    "mat1 = [[1, 0, 0], [-1, 0, 3]]\n",
    "mat2 = [[7, 0, 0], [0, 0, 0], [0, 0, 1]]\n",
    "print(multiply_sparse_matrices(mat1, mat2))\n",
    "#[[7, 0, 0], [-7, 0, 3]]\n"
   ]
  },
  {
   "cell_type": "code",
   "execution_count": null,
   "id": "6839df8a-6703-48b3-a6ec-457870935a97",
   "metadata": {},
   "outputs": [],
   "source": []
  }
 ],
 "metadata": {
  "kernelspec": {
   "display_name": "Python 3 (ipykernel)",
   "language": "python",
   "name": "python3"
  },
  "language_info": {
   "codemirror_mode": {
    "name": "ipython",
    "version": 3
   },
   "file_extension": ".py",
   "mimetype": "text/x-python",
   "name": "python",
   "nbconvert_exporter": "python",
   "pygments_lexer": "ipython3",
   "version": "3.10.8"
  }
 },
 "nbformat": 4,
 "nbformat_minor": 5
}
