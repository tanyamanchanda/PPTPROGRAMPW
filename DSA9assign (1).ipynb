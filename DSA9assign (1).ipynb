{
 "cells": [
  {
   "cell_type": "markdown",
   "id": "2b6d3c1f-44f0-48f9-9b0e-67607c9e2388",
   "metadata": {},
   "source": [
    "1.Given a 1-indexed array of integers numbers that are already sorted in non-decreasing order, find two numbers such that they add up to a specific target number. Let these two numbers be numbers[index1] and numbers[index2] where 1 <= index1 < index2 < numbers.length.\n",
    "Return the indices of the two numbers, index1, and index2, added by one as an integer array [index1, index2] of length 2.\n",
    "The tests are generated such that there is exactly one solution. You may not use the same element twice.\n"
   ]
  },
  {
   "cell_type": "code",
   "execution_count": 1,
   "id": "ccdeda05-e0c2-4a72-b5cc-f26a12950c3a",
   "metadata": {},
   "outputs": [
    {
     "name": "stdout",
     "output_type": "stream",
     "text": [
      "[1, 2]\n"
     ]
    }
   ],
   "source": [
    "def two_sum(numbers, target):\n",
    "    left, right = 0, len(numbers) - 1\n",
    "\n",
    "    while left < right:\n",
    "        current_sum = numbers[left] + numbers[right]\n",
    "\n",
    "        if current_sum == target:\n",
    "            # The indices are 1-indexed, so add 1 to each index before returning\n",
    "            return [left + 1, right + 1]\n",
    "        elif current_sum < target:\n",
    "            # If the sum is less than the target, move the left pointer to the right\n",
    "            left += 1\n",
    "        else:\n",
    "            # If the sum is greater than the target, move the right pointer to the left\n",
    "            right -= 1\n",
    "\n",
    "    # If no solution is found, return an empty list or raise an exception, depending on the requirements.\n",
    "    # Since the tests guarantee that there is exactly one solution, returning an empty list here should be fine.\n",
    "    return []\n",
    "\n",
    "# Test case\n",
    "numbers = [2, 7, 11, 15]\n",
    "target = 9\n",
    "result = two_sum(numbers, target)\n",
    "print(result)  # Output: [1, 2]\n"
   ]
  },
  {
   "cell_type": "markdown",
   "id": "37ae4f37-80ce-4733-9571-9385edaba3da",
   "metadata": {},
   "source": [
    "2.Given an array of integer nums sorted in non-decreasing order, find the starting and ending position of a given target value.\n",
    "If the target is not found in the array, return [-1, -1]."
   ]
  },
  {
   "cell_type": "code",
   "execution_count": 2,
   "id": "7adcdd36-0a81-45f3-9731-2c6b51674f85",
   "metadata": {},
   "outputs": [
    {
     "name": "stdout",
     "output_type": "stream",
     "text": [
      "[3, 4]\n"
     ]
    }
   ],
   "source": [
    "def search_range(nums, target):\n",
    "    def find_leftmost_index(nums, target):\n",
    "        left, right = 0, len(nums) - 1\n",
    "        index = -1\n",
    "\n",
    "        while left <= right:\n",
    "            mid = left + (right - left) // 2\n",
    "\n",
    "            if nums[mid] >= target:\n",
    "                right = mid - 1\n",
    "            else:\n",
    "                left = mid + 1\n",
    "\n",
    "            if nums[mid] == target:\n",
    "                index = mid\n",
    "\n",
    "        return index\n",
    "\n",
    "    def find_rightmost_index(nums, target):\n",
    "        left, right = 0, len(nums) - 1\n",
    "        index = -1\n",
    "\n",
    "        while left <= right:\n",
    "            mid = left + (right - left) // 2\n",
    "\n",
    "            if nums[mid] <= target:\n",
    "                left = mid + 1\n",
    "            else:\n",
    "                right = mid - 1\n",
    "\n",
    "            if nums[mid] == target:\n",
    "                index = mid\n",
    "\n",
    "        return index\n",
    "\n",
    "    left_index = find_leftmost_index(nums, target)\n",
    "    right_index = find_rightmost_index(nums, target)\n",
    "\n",
    "    return [left_index, right_index]\n",
    "\n",
    "# Test case\n",
    "nums = [5, 7, 7, 8, 8, 10]\n",
    "target = 8\n",
    "result = search_range(nums, target)\n",
    "print(result)  # Output: [3, 4]\n"
   ]
  },
  {
   "cell_type": "markdown",
   "id": "5247b3da-b0f9-4afd-964c-9916a4eb2710",
   "metadata": {},
   "source": [
    "3.A peak element is an element that is strictly greater than its neighbors.\n",
    "Given a 0-indexed integer array nums, find a peak element, and return its index. If the array contains multiple peaks, return the index to any of the peaks.\n",
    "You may imagine that nums[-1] = nums[n] = -∞. In other words, an element is always considered to be strictly greater than a neighbor that is outside the array."
   ]
  },
  {
   "cell_type": "code",
   "execution_count": 3,
   "id": "cf82b30b-a68e-421f-9fee-a63b97a8c89d",
   "metadata": {},
   "outputs": [
    {
     "name": "stdout",
     "output_type": "stream",
     "text": [
      "2\n"
     ]
    }
   ],
   "source": [
    "def find_peak_element(nums):\n",
    "    left, right = 0, len(nums) - 1\n",
    "\n",
    "    while left < right:\n",
    "        mid = left + (right - left) // 2\n",
    "\n",
    "        if nums[mid] < nums[mid + 1]:\n",
    "            # If the middle element is less than the right neighbor, move towards the right\n",
    "            left = mid + 1\n",
    "        else:\n",
    "            # If the middle element is greater than or equal to the right neighbor, move towards the left\n",
    "            right = mid\n",
    "\n",
    "    # At the end of the loop, left and right will be the same, representing the peak element's index\n",
    "    return left\n",
    "\n",
    "# Test case\n",
    "nums = [1, 2, 3, 1]\n",
    "result = find_peak_element(nums)\n",
    "print(result)  # Output: 2\n"
   ]
  },
  {
   "cell_type": "markdown",
   "id": "a210b0ef-108b-451a-ae0a-c2a310dc4481",
   "metadata": {},
   "source": [
    "4.Given a sorted array of distinct integers and a target value, return the index if the target is found. If not, return the index where it would be if it were inserted in order.\n",
    "You must write an algorithm with O(log n) runtime complexity."
   ]
  },
  {
   "cell_type": "code",
   "execution_count": 4,
   "id": "8eaebd41-83c7-4786-b217-a122ab0ee870",
   "metadata": {},
   "outputs": [
    {
     "name": "stdout",
     "output_type": "stream",
     "text": [
      "2\n",
      "4\n"
     ]
    }
   ],
   "source": [
    "def search_insert_position(nums, target):\n",
    "    left, right = 0, len(nums)\n",
    "\n",
    "    while left < right:\n",
    "        mid = left + (right - left) // 2\n",
    "\n",
    "        if nums[mid] < target:\n",
    "            left = mid + 1\n",
    "        else:\n",
    "            right = mid\n",
    "\n",
    "    return left\n",
    "\n",
    "# Test cases\n",
    "nums = [1, 3, 5, 6]\n",
    "target1 = 5\n",
    "target2 = 7\n",
    "result1 = search_insert_position(nums, target1)\n",
    "result2 = search_insert_position(nums, target2)\n",
    "print(result1)  # Output: 2\n",
    "print(result2)  # Output: 4\n"
   ]
  },
  {
   "cell_type": "markdown",
   "id": "6825f4c1-c180-486c-b9a1-4e5039c05515",
   "metadata": {},
   "source": [
    "5.Find the majority element in the array. A majority element in an array A[] of size n is an element that appears more than n/2 times (and hence there is at most one such element). "
   ]
  },
  {
   "cell_type": "code",
   "execution_count": 5,
   "id": "6f25180c-a646-4b39-aad4-00f151bec19e",
   "metadata": {},
   "outputs": [
    {
     "name": "stdout",
     "output_type": "stream",
     "text": [
      "4\n"
     ]
    }
   ],
   "source": [
    "def majority_element(nums):\n",
    "    candidate = None\n",
    "    count = 0\n",
    "\n",
    "    for num in nums:\n",
    "        if count == 0:\n",
    "            candidate = num\n",
    "            count = 1\n",
    "        elif num == candidate:\n",
    "            count += 1\n",
    "        else:\n",
    "            count -= 1\n",
    "\n",
    "    return candidate\n",
    "\n",
    "# Test case\n",
    "A = [3, 3, 4, 2, 4, 4, 2, 4, 4]\n",
    "result = majority_element(A)\n",
    "print(result)  # Output: 4\n"
   ]
  },
  {
   "cell_type": "markdown",
   "id": "00ac190f-6cd0-46e4-82c4-d96c5d5ea443",
   "metadata": {},
   "source": [
    "6.You are a product manager and currently leading a team to develop a new product. Unfortunately, the latest version of your product fails the quality check. Since each version is developed based on the previous version, all the versions after a bad version are also bad.\n",
    "Suppose you have n versions [1, 2, ..., n] and you want to find out the first bad one, which causes all the following ones to be bad.\n",
    "You are given an API bool isBadVersion(version) which returns whether the version is bad. Implement a function to find the first bad version. You should minimize the number of calls to the API.\n"
   ]
  },
  {
   "cell_type": "code",
   "execution_count": 6,
   "id": "5a7d8a01-c0d9-4432-9fbf-78057a12d113",
   "metadata": {},
   "outputs": [
    {
     "name": "stdout",
     "output_type": "stream",
     "text": [
      "4\n"
     ]
    }
   ],
   "source": [
    "def first_bad_version(n):\n",
    "    left, right = 1, n\n",
    "\n",
    "    while left < right:\n",
    "        mid = left + (right - left) // 2\n",
    "\n",
    "        if isBadVersion(mid):\n",
    "            # If the mid version is bad, the first bad version must be in the left half.\n",
    "            right = mid\n",
    "        else:\n",
    "            # If the mid version is not bad, the first bad version must be in the right half.\n",
    "            left = mid + 1\n",
    "\n",
    "    # At the end of the loop, left and right will be the same, representing the first bad version.\n",
    "    return left\n",
    "\n",
    "# Example isBadVersion function (you can replace this with the actual API provided):\n",
    "def isBadVersion(version):\n",
    "    return version >= 4  # Assuming bad versions start from 4 onwards\n",
    "\n",
    "# Test case\n",
    "n = 5\n",
    "result = first_bad_version(n)\n",
    "print(result)  # Output: 4\n"
   ]
  },
  {
   "cell_type": "markdown",
   "id": "d918619c-6652-47a8-af34-01abcfee9fe6",
   "metadata": {},
   "source": [
    "7.Given an array of integers, find the inversion of an array. Formally, two elements a[i] and a[j] form an inversion if a[i] > a[j] and i < j.\n",
    "N=5, arr[] = {2, 4, 1, 3, 5}"
   ]
  },
  {
   "cell_type": "code",
   "execution_count": 7,
   "id": "5dce7de5-4ba3-46f6-a50b-0017ebcb9f1d",
   "metadata": {},
   "outputs": [
    {
     "name": "stdout",
     "output_type": "stream",
     "text": [
      "3\n"
     ]
    }
   ],
   "source": [
    "def merge_and_count_inversions(arr, left, mid, right):\n",
    "    count = 0\n",
    "    i = left\n",
    "    j = mid + 1\n",
    "    temp = []\n",
    "\n",
    "    while i <= mid and j <= right:\n",
    "        if arr[i] <= arr[j]:\n",
    "            temp.append(arr[i])\n",
    "            i += 1\n",
    "        else:\n",
    "            temp.append(arr[j])\n",
    "            j += 1\n",
    "            count += mid - i + 1\n",
    "\n",
    "    while i <= mid:\n",
    "        temp.append(arr[i])\n",
    "        i += 1\n",
    "\n",
    "    while j <= right:\n",
    "        temp.append(arr[j])\n",
    "        j += 1\n",
    "\n",
    "    arr[left:right+1] = temp\n",
    "    return count\n",
    "\n",
    "def merge_sort_and_count_inversions(arr, left, right):\n",
    "    count = 0\n",
    "\n",
    "    if left < right:\n",
    "        mid = left + (right - left) // 2\n",
    "\n",
    "        count += merge_sort_and_count_inversions(arr, left, mid)\n",
    "        count += merge_sort_and_count_inversions(arr, mid + 1, right)\n",
    "        count += merge_and_count_inversions(arr, left, mid, right)\n",
    "\n",
    "    return count\n",
    "\n",
    "def count_inversions(arr):\n",
    "    return merge_sort_and_count_inversions(arr, 0, len(arr) - 1)\n",
    "\n",
    "# Test case\n",
    "arr = [2, 4, 1, 3, 5]\n",
    "result = count_inversions(arr)\n",
    "print(result)  # Output: 3\n"
   ]
  },
  {
   "cell_type": "markdown",
   "id": "a2b47a5c-3f6d-45b4-9e90-775513439602",
   "metadata": {},
   "source": [
    "8.Given three arrays sorted in non-decreasing order, print all common elements in these arrays.\n",
    "ar1[] = {1, 5, 10, 20, 40, 80} \n",
    "ar2[] = {6, 7, 20, 80, 100} \n",
    "ar3[] = {3, 4, 15, 20, 30, 70, 80, 120} \n"
   ]
  },
  {
   "cell_type": "code",
   "execution_count": 8,
   "id": "a92dc5d6-b7a5-43df-99c2-8f680a53d0db",
   "metadata": {},
   "outputs": [
    {
     "name": "stdout",
     "output_type": "stream",
     "text": [
      "[20, 80]\n"
     ]
    }
   ],
   "source": [
    "def find_common_elements(ar1, ar2, ar3):\n",
    "    common_elements = []\n",
    "    i, j, k = 0, 0, 0\n",
    "\n",
    "    while i < len(ar1) and j < len(ar2) and k < len(ar3):\n",
    "        if ar1[i] == ar2[j] == ar3[k]:\n",
    "            common_elements.append(ar1[i])\n",
    "            i += 1\n",
    "            j += 1\n",
    "            k += 1\n",
    "        elif ar1[i] <= ar2[j] and ar1[i] <= ar3[k]:\n",
    "            i += 1\n",
    "        elif ar2[j] <= ar1[i] and ar2[j] <= ar3[k]:\n",
    "            j += 1\n",
    "        else:\n",
    "            k += 1\n",
    "\n",
    "    return common_elements\n",
    "\n",
    "# Test case\n",
    "ar1 = [1, 5, 10, 20, 40, 80]\n",
    "ar2 = [6, 7, 20, 80, 100]\n",
    "ar3 = [3, 4, 15, 20, 30, 70, 80, 120]\n",
    "result = find_common_elements(ar1, ar2, ar3)\n",
    "print(result)  # Output: [20, 80]\n"
   ]
  },
  {
   "cell_type": "code",
   "execution_count": null,
   "id": "0aa569ef-5dc7-4b60-ada3-72ee9fc0a56a",
   "metadata": {},
   "outputs": [],
   "source": []
  }
 ],
 "metadata": {
  "kernelspec": {
   "display_name": "Python 3 (ipykernel)",
   "language": "python",
   "name": "python3"
  },
  "language_info": {
   "codemirror_mode": {
    "name": "ipython",
    "version": 3
   },
   "file_extension": ".py",
   "mimetype": "text/x-python",
   "name": "python",
   "nbconvert_exporter": "python",
   "pygments_lexer": "ipython3",
   "version": "3.10.8"
  }
 },
 "nbformat": 4,
 "nbformat_minor": 5
}
